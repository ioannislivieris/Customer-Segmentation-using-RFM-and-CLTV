{
 "cells": [
  {
   "cell_type": "markdown",
   "metadata": {},
   "source": [
    "<p align=\"center\">\n",
    "    <img src=\"images/RFM-CLTV.png\" alt=\"drawing\" width=\"1000\"/>"
   ]
  },
  {
   "cell_type": "markdown",
   "metadata": {},
   "source": [
    "# Import libraries"
   ]
  },
  {
   "cell_type": "code",
   "execution_count": 1,
   "metadata": {},
   "outputs": [],
   "source": [
    "import warnings\n",
    "warnings.filterwarnings(\"ignore\")"
   ]
  },
  {
   "cell_type": "code",
   "execution_count": 2,
   "metadata": {},
   "outputs": [],
   "source": [
    "# =-=-=-=-=-=-=-=-=-=-=-=-=-=-=-=-=-=-=-=-=-=-=-=-=-=-=-=-=-\n",
    "# # Basic libraries\n",
    "# \n",
    "import pandas   as pd\n",
    "import numpy    as np\n",
    "import datetime as dt\n",
    "\n",
    "# =-=-=-=-=-=-=-=-=-=-=-=-=-=-=-=-=-=-=-=-=-=-=-=-=-=-=-=-=-\n",
    "# Visualization libraries\n",
    "#\n",
    "import matplotlib.pyplot as plt\n",
    "import seaborn           as sns\n",
    "\n",
    "# =-=-=-=-=-=-=-=-=-=-=-=-=-=-=-=-=-=-=-=-=-=-=-=-=-=-=-=-=-\n",
    "# Sklearn library\n",
    "#\n",
    "from sklearn.preprocessing import PowerTransformer\n",
    "from sklearn.preprocessing import StandardScaler\n",
    "from sklearn.preprocessing import MinMaxScaler\n",
    "from sklearn.cluster       import KMeans\n",
    "\n",
    "# =-=-=-=-=-=-=-=-=-=-=-=-=-=-=-=-=-=-=-=-=-=-=-=-=-=-=-=-=-\n",
    "# Feature engine library\n",
    "#\n",
    "import feature_engine\n",
    "from   feature_engine.outliers import Winsorizer\n",
    "\n",
    "\n",
    "# =-=-=-=-=-=-=-=-=-=-=-=-=-=-=-=-=-=-=-=-=-=-=-=-=-=-=-=-=-\n",
    "# User library\n",
    "#\n",
    "from   utils.snake_plot import *\n",
    "from   utils.check_skew import *"
   ]
  },
  {
   "cell_type": "markdown",
   "metadata": {},
   "source": [
    "# Import data"
   ]
  },
  {
   "cell_type": "code",
   "execution_count": 3,
   "metadata": {},
   "outputs": [
    {
     "name": "stdout",
     "output_type": "stream",
     "text": [
      "[INFO] Number of instances:  541909\n",
      "[INFO] Number of features:   8\n"
     ]
    },
    {
     "data": {
      "text/html": [
       "<div>\n",
       "<style scoped>\n",
       "    .dataframe tbody tr th:only-of-type {\n",
       "        vertical-align: middle;\n",
       "    }\n",
       "\n",
       "    .dataframe tbody tr th {\n",
       "        vertical-align: top;\n",
       "    }\n",
       "\n",
       "    .dataframe thead th {\n",
       "        text-align: right;\n",
       "    }\n",
       "</style>\n",
       "<table border=\"1\" class=\"dataframe\">\n",
       "  <thead>\n",
       "    <tr style=\"text-align: right;\">\n",
       "      <th></th>\n",
       "      <th>InvoiceNo</th>\n",
       "      <th>StockCode</th>\n",
       "      <th>Description</th>\n",
       "      <th>Quantity</th>\n",
       "      <th>InvoiceDate</th>\n",
       "      <th>UnitPrice</th>\n",
       "      <th>CustomerID</th>\n",
       "      <th>Country</th>\n",
       "    </tr>\n",
       "  </thead>\n",
       "  <tbody>\n",
       "    <tr>\n",
       "      <th>0</th>\n",
       "      <td>536365</td>\n",
       "      <td>85123A</td>\n",
       "      <td>WHITE HANGING HEART T-LIGHT HOLDER</td>\n",
       "      <td>6</td>\n",
       "      <td>1/12/10 8:26</td>\n",
       "      <td>2.55</td>\n",
       "      <td>17850.0</td>\n",
       "      <td>United Kingdom</td>\n",
       "    </tr>\n",
       "    <tr>\n",
       "      <th>1</th>\n",
       "      <td>536365</td>\n",
       "      <td>71053</td>\n",
       "      <td>WHITE METAL LANTERN</td>\n",
       "      <td>6</td>\n",
       "      <td>1/12/10 8:26</td>\n",
       "      <td>3.39</td>\n",
       "      <td>17850.0</td>\n",
       "      <td>United Kingdom</td>\n",
       "    </tr>\n",
       "    <tr>\n",
       "      <th>2</th>\n",
       "      <td>536365</td>\n",
       "      <td>84406B</td>\n",
       "      <td>CREAM CUPID HEARTS COAT HANGER</td>\n",
       "      <td>8</td>\n",
       "      <td>1/12/10 8:26</td>\n",
       "      <td>2.75</td>\n",
       "      <td>17850.0</td>\n",
       "      <td>United Kingdom</td>\n",
       "    </tr>\n",
       "  </tbody>\n",
       "</table>\n",
       "</div>"
      ],
      "text/plain": [
       "  InvoiceNo StockCode                         Description  Quantity  \\\n",
       "0    536365    85123A  WHITE HANGING HEART T-LIGHT HOLDER         6   \n",
       "1    536365     71053                 WHITE METAL LANTERN         6   \n",
       "2    536365    84406B      CREAM CUPID HEARTS COAT HANGER         8   \n",
       "\n",
       "    InvoiceDate  UnitPrice  CustomerID         Country  \n",
       "0  1/12/10 8:26       2.55     17850.0  United Kingdom  \n",
       "1  1/12/10 8:26       3.39     17850.0  United Kingdom  \n",
       "2  1/12/10 8:26       2.75     17850.0  United Kingdom  "
      ]
     },
     "execution_count": 3,
     "metadata": {},
     "output_type": "execute_result"
    }
   ],
   "source": [
    "# Load Dataset\n",
    "#\n",
    "df = pd.read_csv('Data/OnlineRetail.csv', encoding=\"ISO-8859-1\")\n",
    "\n",
    "print('[INFO] Number of instances: ', df.shape[0])\n",
    "print('[INFO] Number of features:  ', df.shape[1])\n",
    "\n",
    "# Visualize DataFrame\n",
    "#\n",
    "df.head( 3 )"
   ]
  },
  {
   "cell_type": "markdown",
   "metadata": {},
   "source": [
    "## Data Pre-processing\n",
    "\n",
    "**Observations/Findings:**\n",
    "\n",
    "- The min and max value for Quantity is 80995, this could represent cancelled or returned orders.\n",
    "- The UnitPrice also have few negative values which is uncommon,these transactions could represent cancelled orders by customers or bad-debt incurred by the business.\n",
    "- Bad debt adjustments will be dropped from the dataset as these do not represent actual sales. \n",
    "\n",
    "We need to clean the above values by removing from the dataset\n",
    "\n",
    "\n",
    "- There are almost 25% missing CustomerID. We need to remove them as there is no way we can get the number of CustomerID\n",
    "- As customer clusters may vary by geography, we will restrict the data to only United Kingdom customers, which contains most of our customers historical data (~90%)."
   ]
  },
  {
   "cell_type": "code",
   "execution_count": 4,
   "metadata": {},
   "outputs": [],
   "source": [
    "# More than 90% of customers are 'United Kingdom' customers.\n",
    "#\n",
    "df = df[df.Country == 'United Kingdom']"
   ]
  },
  {
   "cell_type": "code",
   "execution_count": 5,
   "metadata": {},
   "outputs": [],
   "source": [
    "# Removing the negative values from UnitPrice and Quantity\n",
    "#\n",
    "df = df[df[ 'Quantity'  ] > 0]\n",
    "df = df[df[ 'UnitPrice' ] > 0]\n",
    "\n",
    "# Removing the Null values from the data.\n",
    "#\n",
    "df = df[ pd.notnull(df['CustomerID']) ]"
   ]
  },
  {
   "cell_type": "code",
   "execution_count": 6,
   "metadata": {},
   "outputs": [],
   "source": [
    "# Replace 'InvoiceDate' to 'Date'\n",
    "#\n",
    "df = df.rename(columns = {'InvoiceDate': 'Date'})\n",
    "\n",
    "\n",
    "# Convert 'Date' to datetime64\n",
    "#\n",
    "df[ 'Date' ] = df[ 'Date' ].astype( 'datetime64' )"
   ]
  },
  {
   "cell_type": "code",
   "execution_count": 7,
   "metadata": {},
   "outputs": [],
   "source": [
    "# Convert 'CustomerID' to int\n",
    "#\n",
    "df[ 'CustomerID' ] = df[ 'CustomerID' ].astype( 'int' )"
   ]
  },
  {
   "cell_type": "markdown",
   "metadata": {},
   "source": [
    "**Note:** We have all the crucial information we need\n",
    "\n",
    "- Customer ID\n",
    "- Unit Price\n",
    "- Quantity\n",
    "- Invoice Date"
   ]
  },
  {
   "cell_type": "markdown",
   "metadata": {},
   "source": [
    "### Calculate Revenue"
   ]
  },
  {
   "cell_type": "code",
   "execution_count": 8,
   "metadata": {},
   "outputs": [],
   "source": [
    "# Revenue = Order Count * Average Revenue per Order\n",
    "#\n",
    "df['Revenue'] = df['Quantity'] * df['UnitPrice']"
   ]
  },
  {
   "cell_type": "markdown",
   "metadata": {},
   "source": [
    "## Aggregating the Orders by Month"
   ]
  },
  {
   "cell_type": "code",
   "execution_count": 9,
   "metadata": {},
   "outputs": [],
   "source": [
    "df_agg = df.resample('M', on = 'Date').sum()"
   ]
  },
  {
   "cell_type": "code",
   "execution_count": 10,
   "metadata": {
    "scrolled": true
   },
   "outputs": [
    {
     "data": {
      "text/plain": [
       "<matplotlib.legend.Legend at 0x22962d2f188>"
      ]
     },
     "execution_count": 10,
     "metadata": {},
     "output_type": "execute_result"
    },
    {
     "data": {
      "image/png": "[encoded data removed]",
      "text/plain": [
       "<Figure size 1440x216 with 1 Axes>"
      ]
     },
     "metadata": {
      "needs_background": "light"
     },
     "output_type": "display_data"
    }
   ],
   "source": [
    "df_agg[ 'Quantity' ].plot(color='tab:Blue', marker='o', figsize = (20, 3))\n",
    "\n",
    "\n",
    "plt.title('Orders in 2010-2011', size = 14)\n",
    "#\n",
    "plt.xticks(rotation = 45, size = 12);\n",
    "plt.yticks(size = 12)\n",
    "#\n",
    "plt.xlabel('Date', size = 14)\n",
    "plt.ylabel('Quantity', size = 14);\n",
    "#\n",
    "plt.legend([], frameon = False)\n"
   ]
  },
  {
   "cell_type": "markdown",
   "metadata": {},
   "source": [
    "# RFM Analysis\n",
    "\n",
    "**Recency-Frequency-Monetary**\n",
    "    \n",
    "    \n",
    "RFM analysis allows you to segment customers by the frequency and value of purchases and identify those customers who spend the most money.\n",
    "\n",
    "* Recency — how long it’s been since a customer bought something from us\n",
    "* Frequency — how often a customer buys from us\n",
    "* Monetary value — the total value of purchases a customer has made"
   ]
  },
  {
   "cell_type": "markdown",
   "metadata": {},
   "source": [
    "### Keep useful feature for RFM analysis\n",
    "\n",
    "- CustomerID\n",
    "- Date\n",
    "- InvoiceNo\n",
    "- Revenue"
   ]
  },
  {
   "cell_type": "code",
   "execution_count": 11,
   "metadata": {},
   "outputs": [],
   "source": [
    "df = df[ ['CustomerID' , 'Date', 'InvoiceNo', 'Revenue'] ]"
   ]
  },
  {
   "cell_type": "markdown",
   "metadata": {},
   "source": [
    "## Recency"
   ]
  },
  {
   "cell_type": "code",
   "execution_count": 12,
   "metadata": {},
   "outputs": [],
   "source": [
    "# The last invoice date is 2011–12–11, we will use this date to calculate Recency\n",
    "NOW = dt.date(2011, 12, 11) \n",
    "\n",
    "df['Date'] = pd.DatetimeIndex(df[ 'Date' ]).date"
   ]
  },
  {
   "cell_type": "code",
   "execution_count": 13,
   "metadata": {},
   "outputs": [
    {
     "data": {
      "text/html": [
       "<div>\n",
       "<style scoped>\n",
       "    .dataframe tbody tr th:only-of-type {\n",
       "        vertical-align: middle;\n",
       "    }\n",
       "\n",
       "    .dataframe tbody tr th {\n",
       "        vertical-align: top;\n",
       "    }\n",
       "\n",
       "    .dataframe thead th {\n",
       "        text-align: right;\n",
       "    }\n",
       "</style>\n",
       "<table border=\"1\" class=\"dataframe\">\n",
       "  <thead>\n",
       "    <tr style=\"text-align: right;\">\n",
       "      <th></th>\n",
       "      <th>Recency</th>\n",
       "    </tr>\n",
       "    <tr>\n",
       "      <th>CustomerID</th>\n",
       "      <th></th>\n",
       "    </tr>\n",
       "  </thead>\n",
       "  <tbody>\n",
       "    <tr>\n",
       "      <th>12346</th>\n",
       "      <td>327</td>\n",
       "    </tr>\n",
       "    <tr>\n",
       "      <th>12747</th>\n",
       "      <td>24</td>\n",
       "    </tr>\n",
       "    <tr>\n",
       "      <th>12748</th>\n",
       "      <td>6</td>\n",
       "    </tr>\n",
       "    <tr>\n",
       "      <th>12749</th>\n",
       "      <td>24</td>\n",
       "    </tr>\n",
       "    <tr>\n",
       "      <th>12820</th>\n",
       "      <td>46</td>\n",
       "    </tr>\n",
       "  </tbody>\n",
       "</table>\n",
       "</div>"
      ],
      "text/plain": [
       "            Recency\n",
       "CustomerID         \n",
       "12346           327\n",
       "12747            24\n",
       "12748             6\n",
       "12749            24\n",
       "12820            46"
      ]
     },
     "execution_count": 13,
     "metadata": {},
     "output_type": "execute_result"
    }
   ],
   "source": [
    "# Create Recency DataFrame\n",
    "# \n",
    "df_Recency = df.groupby('CustomerID').agg( {'Date': lambda date: (NOW - date.max()).days} )\n",
    "df_Recency.columns = ['Recency']\n",
    "\n",
    "# Recency DataFrame visualization\n",
    "#\n",
    "df_Recency.head( 5 )"
   ]
  },
  {
   "cell_type": "markdown",
   "metadata": {},
   "source": [
    "## Frequency"
   ]
  },
  {
   "cell_type": "code",
   "execution_count": 14,
   "metadata": {},
   "outputs": [
    {
     "data": {
      "text/html": [
       "<div>\n",
       "<style scoped>\n",
       "    .dataframe tbody tr th:only-of-type {\n",
       "        vertical-align: middle;\n",
       "    }\n",
       "\n",
       "    .dataframe tbody tr th {\n",
       "        vertical-align: top;\n",
       "    }\n",
       "\n",
       "    .dataframe thead th {\n",
       "        text-align: right;\n",
       "    }\n",
       "</style>\n",
       "<table border=\"1\" class=\"dataframe\">\n",
       "  <thead>\n",
       "    <tr style=\"text-align: right;\">\n",
       "      <th></th>\n",
       "      <th>Frequency</th>\n",
       "    </tr>\n",
       "    <tr>\n",
       "      <th>CustomerID</th>\n",
       "      <th></th>\n",
       "    </tr>\n",
       "  </thead>\n",
       "  <tbody>\n",
       "    <tr>\n",
       "      <th>12346</th>\n",
       "      <td>1</td>\n",
       "    </tr>\n",
       "    <tr>\n",
       "      <th>12747</th>\n",
       "      <td>11</td>\n",
       "    </tr>\n",
       "    <tr>\n",
       "      <th>12748</th>\n",
       "      <td>209</td>\n",
       "    </tr>\n",
       "    <tr>\n",
       "      <th>12749</th>\n",
       "      <td>5</td>\n",
       "    </tr>\n",
       "    <tr>\n",
       "      <th>12820</th>\n",
       "      <td>4</td>\n",
       "    </tr>\n",
       "  </tbody>\n",
       "</table>\n",
       "</div>"
      ],
      "text/plain": [
       "            Frequency\n",
       "CustomerID           \n",
       "12346               1\n",
       "12747              11\n",
       "12748             209\n",
       "12749               5\n",
       "12820               4"
      ]
     },
     "execution_count": 14,
     "metadata": {},
     "output_type": "execute_result"
    }
   ],
   "source": [
    "# Create Frequeny DataFrame\n",
    "#\n",
    "df_Frequency = df.groupby('CustomerID').agg( {'InvoiceNo' : lambda x: x.nunique()})\n",
    "df_Frequency.rename(columns = {'InvoiceNo' : 'Frequency'}, inplace = True)\n",
    "\n",
    "# Frequeny DataFrame visualization\n",
    "#\n",
    "df_Frequency.head( 5 )"
   ]
  },
  {
   "cell_type": "markdown",
   "metadata": {},
   "source": [
    "## Monetarty"
   ]
  },
  {
   "cell_type": "code",
   "execution_count": 15,
   "metadata": {},
   "outputs": [
    {
     "data": {
      "text/html": [
       "<div>\n",
       "<style scoped>\n",
       "    .dataframe tbody tr th:only-of-type {\n",
       "        vertical-align: middle;\n",
       "    }\n",
       "\n",
       "    .dataframe tbody tr th {\n",
       "        vertical-align: top;\n",
       "    }\n",
       "\n",
       "    .dataframe thead th {\n",
       "        text-align: right;\n",
       "    }\n",
       "</style>\n",
       "<table border=\"1\" class=\"dataframe\">\n",
       "  <thead>\n",
       "    <tr style=\"text-align: right;\">\n",
       "      <th></th>\n",
       "      <th>Monetary</th>\n",
       "    </tr>\n",
       "    <tr>\n",
       "      <th>CustomerID</th>\n",
       "      <th></th>\n",
       "    </tr>\n",
       "  </thead>\n",
       "  <tbody>\n",
       "    <tr>\n",
       "      <th>12346</th>\n",
       "      <td>77183.60</td>\n",
       "    </tr>\n",
       "    <tr>\n",
       "      <th>12747</th>\n",
       "      <td>4196.01</td>\n",
       "    </tr>\n",
       "    <tr>\n",
       "      <th>12748</th>\n",
       "      <td>33719.73</td>\n",
       "    </tr>\n",
       "    <tr>\n",
       "      <th>12749</th>\n",
       "      <td>4090.88</td>\n",
       "    </tr>\n",
       "    <tr>\n",
       "      <th>12820</th>\n",
       "      <td>942.34</td>\n",
       "    </tr>\n",
       "  </tbody>\n",
       "</table>\n",
       "</div>"
      ],
      "text/plain": [
       "            Monetary\n",
       "CustomerID          \n",
       "12346       77183.60\n",
       "12747        4196.01\n",
       "12748       33719.73\n",
       "12749        4090.88\n",
       "12820         942.34"
      ]
     },
     "execution_count": 15,
     "metadata": {},
     "output_type": "execute_result"
    }
   ],
   "source": [
    "# Create Monetarty DataFrame\n",
    "#\n",
    "df_Monetarty = df.groupby('CustomerID').agg( {'Revenue' : lambda x: x.sum()} )\n",
    "df_Monetarty.rename(columns = {'Revenue' : 'Monetary'}, inplace = True)\n",
    "\n",
    "# Monetarty DataFrame visualization\n",
    "#\n",
    "df_Monetarty.head( 5 )"
   ]
  },
  {
   "cell_type": "code",
   "execution_count": 16,
   "metadata": {},
   "outputs": [
    {
     "data": {
      "text/html": [
       "<div>\n",
       "<style scoped>\n",
       "    .dataframe tbody tr th:only-of-type {\n",
       "        vertical-align: middle;\n",
       "    }\n",
       "\n",
       "    .dataframe tbody tr th {\n",
       "        vertical-align: top;\n",
       "    }\n",
       "\n",
       "    .dataframe thead th {\n",
       "        text-align: right;\n",
       "    }\n",
       "</style>\n",
       "<table border=\"1\" class=\"dataframe\">\n",
       "  <thead>\n",
       "    <tr style=\"text-align: right;\">\n",
       "      <th></th>\n",
       "      <th>CustomerID</th>\n",
       "      <th>Recency</th>\n",
       "      <th>Frequency</th>\n",
       "      <th>Monetary</th>\n",
       "    </tr>\n",
       "  </thead>\n",
       "  <tbody>\n",
       "    <tr>\n",
       "      <th>0</th>\n",
       "      <td>12346</td>\n",
       "      <td>327</td>\n",
       "      <td>1</td>\n",
       "      <td>77183.60</td>\n",
       "    </tr>\n",
       "    <tr>\n",
       "      <th>1</th>\n",
       "      <td>12747</td>\n",
       "      <td>24</td>\n",
       "      <td>11</td>\n",
       "      <td>4196.01</td>\n",
       "    </tr>\n",
       "    <tr>\n",
       "      <th>2</th>\n",
       "      <td>12748</td>\n",
       "      <td>6</td>\n",
       "      <td>209</td>\n",
       "      <td>33719.73</td>\n",
       "    </tr>\n",
       "    <tr>\n",
       "      <th>3</th>\n",
       "      <td>12749</td>\n",
       "      <td>24</td>\n",
       "      <td>5</td>\n",
       "      <td>4090.88</td>\n",
       "    </tr>\n",
       "    <tr>\n",
       "      <th>4</th>\n",
       "      <td>12820</td>\n",
       "      <td>46</td>\n",
       "      <td>4</td>\n",
       "      <td>942.34</td>\n",
       "    </tr>\n",
       "  </tbody>\n",
       "</table>\n",
       "</div>"
      ],
      "text/plain": [
       "   CustomerID  Recency  Frequency  Monetary\n",
       "0       12346      327          1  77183.60\n",
       "1       12747       24         11   4196.01\n",
       "2       12748        6        209  33719.73\n",
       "3       12749       24          5   4090.88\n",
       "4       12820       46          4    942.34"
      ]
     },
     "execution_count": 16,
     "metadata": {},
     "output_type": "execute_result"
    }
   ],
   "source": [
    "# Merge Recency, Frequency & Monetary DataFrames\n",
    "#\n",
    "RFM = df_Recency.merge(df_Frequency, left_on = 'CustomerID', right_on = 'CustomerID')\n",
    "#\n",
    "RFM = RFM.merge(df_Monetarty, left_on = 'CustomerID', right_on = 'CustomerID')\n",
    "\n",
    "RFM.reset_index(inplace = True)\n",
    "# RFM DataFrame visualization\n",
    "#\n",
    "RFM.head( 5 )"
   ]
  },
  {
   "cell_type": "code",
   "execution_count": 17,
   "metadata": {},
   "outputs": [],
   "source": [
    "# Recency - Frequency - Monetarty could be calculated together using the following code\n",
    "# ---------------------------------------------------------------------------\n",
    "#\n",
    "# \n",
    "# # RFM = df.groupby('CustomerID').agg( {'Date'       :  lambda date: (NOW - date.max()).days\n",
    "#                                        'InvoiceNo'  : lambda x: x.nunique(),\n",
    "#                                        'Revenue'    : lambda x: x.sum()})\n",
    "#\n",
    "# RFM.columns = ['Recency', 'Frequency', 'Monetary']\n",
    "# RFM.head( 5 )"
   ]
  },
  {
   "cell_type": "markdown",
   "metadata": {},
   "source": [
    "## Calculate RFM-Scores\n",
    "\n",
    "**Methodology:** Next, we split the metrics into segments using quantiles. \n",
    "\n",
    "We will assign a score from 1 to 5 to each Recency, Frequency and Monetary respectively. 1 is the highest value, and 5 is the lowest value. A final RFM score (Overall Value) is calculated simply by combining individual RFM score numbers."
   ]
  },
  {
   "cell_type": "markdown",
   "metadata": {},
   "source": [
    "### Calculate R_score, F_score, M_score"
   ]
  },
  {
   "cell_type": "code",
   "execution_count": 18,
   "metadata": {},
   "outputs": [],
   "source": [
    "# Calculate R_score, F_score, M_score\n",
    "# \n",
    "RFM['R_score'] = pd.qcut(RFM['Recency'],                          5, labels = [5, 4, 3, 2, 1]).astype('int')\n",
    "RFM['F_score'] = pd.qcut(RFM['Frequency'].rank(method = 'first'), 5, labels = [1, 2, 3, 4, 5]).astype('int')\n",
    "RFM['M_score'] = pd.qcut(RFM['Monetary'],                         5, labels = [1, 2, 3, 4, 5]).astype('int')"
   ]
  },
  {
   "cell_type": "markdown",
   "metadata": {},
   "source": [
    "### Calculating the RFM_Segment & RFM-score\n",
    "\n",
    "RFM_Segment = str(R_score) + str(F_score) + str(M_score)\n",
    "RFM_Score   = R_score + F_score + M_score"
   ]
  },
  {
   "cell_type": "code",
   "execution_count": 19,
   "metadata": {},
   "outputs": [],
   "source": [
    "# Calculate RFM_Segment\n",
    "# \n",
    "RFM['RFM_Segment'] = RFM.R_score.map(str) + RFM.F_score.map(str) + RFM.M_score.map(str)\n",
    "\n",
    "# Calculate RFM_Score\n",
    "#\n",
    "RFM[ 'RFM_Score' ] = RFM[ 'R_score' ] + RFM[ 'F_score' ] + RFM[ 'M_score' ]\n",
    "\n",
    "# Sort DataFrame based on RFM-Score\n",
    "#\n",
    "RFM.sort_values(by = 'RFM_Score', inplace = True)"
   ]
  },
  {
   "cell_type": "code",
   "execution_count": 20,
   "metadata": {},
   "outputs": [
    {
     "name": "stdout",
     "output_type": "stream",
     "text": [
      "[INFO] Remove some outliers, Extreme Monetary, with only one sale\n",
      "[INFO] Number of IDs to be removed:  1\n"
     ]
    }
   ],
   "source": [
    "# Remove some outliers, namely\n",
    "# Extreme Monetary, with only one sale\n",
    "#\n",
    "RemovedIDs = RFM[ ( (RFM['Monetary'] > np.quantile(RFM['Monetary'], 0.95)) & (RFM['Frequency'] == 1) ) ].CustomerID\n",
    "print('[INFO] Remove some outliers, Extreme Monetary, with only one sale')\n",
    "print('[INFO] Number of IDs to be removed: ', len(RemovedIDs))\n",
    "#\n",
    "RFM = RFM[ ~RFM['CustomerID'].isin( RemovedIDs ) ]\n",
    "df  = df[  ~df['CustomerID'].isin( RemovedIDs )  ]\n",
    "#\n",
    "# This could be removed, depending on the selected strategy."
   ]
  },
  {
   "cell_type": "markdown",
   "metadata": {},
   "source": [
    "### Visualization \n",
    "\n",
    "- DataFrame visualization\n",
    "- RFM-Segment & RFM-Score bar-plots\n",
    "- Average Revenue Per User"
   ]
  },
  {
   "cell_type": "code",
   "execution_count": 21,
   "metadata": {},
   "outputs": [
    {
     "data": {
      "text/html": [
       "<div>\n",
       "<style scoped>\n",
       "    .dataframe tbody tr th:only-of-type {\n",
       "        vertical-align: middle;\n",
       "    }\n",
       "\n",
       "    .dataframe tbody tr th {\n",
       "        vertical-align: top;\n",
       "    }\n",
       "\n",
       "    .dataframe thead th {\n",
       "        text-align: right;\n",
       "    }\n",
       "</style>\n",
       "<table border=\"1\" class=\"dataframe\">\n",
       "  <thead>\n",
       "    <tr style=\"text-align: right;\">\n",
       "      <th></th>\n",
       "      <th>CustomerID</th>\n",
       "      <th>Recency</th>\n",
       "      <th>Frequency</th>\n",
       "      <th>Monetary</th>\n",
       "      <th>R_score</th>\n",
       "      <th>F_score</th>\n",
       "      <th>M_score</th>\n",
       "      <th>RFM_Segment</th>\n",
       "      <th>RFM_Score</th>\n",
       "    </tr>\n",
       "  </thead>\n",
       "  <tbody>\n",
       "    <tr>\n",
       "      <th>1875</th>\n",
       "      <td>15454</td>\n",
       "      <td>364</td>\n",
       "      <td>1</td>\n",
       "      <td>179.10</td>\n",
       "      <td>1</td>\n",
       "      <td>1</td>\n",
       "      <td>1</td>\n",
       "      <td>111</td>\n",
       "      <td>3</td>\n",
       "    </tr>\n",
       "    <tr>\n",
       "      <th>1748</th>\n",
       "      <td>15276</td>\n",
       "      <td>245</td>\n",
       "      <td>1</td>\n",
       "      <td>135.31</td>\n",
       "      <td>1</td>\n",
       "      <td>1</td>\n",
       "      <td>1</td>\n",
       "      <td>111</td>\n",
       "      <td>3</td>\n",
       "    </tr>\n",
       "    <tr>\n",
       "      <th>636</th>\n",
       "      <td>13716</td>\n",
       "      <td>271</td>\n",
       "      <td>1</td>\n",
       "      <td>138.28</td>\n",
       "      <td>1</td>\n",
       "      <td>1</td>\n",
       "      <td>1</td>\n",
       "      <td>111</td>\n",
       "      <td>3</td>\n",
       "    </tr>\n",
       "    <tr>\n",
       "      <th>143</th>\n",
       "      <td>13017</td>\n",
       "      <td>302</td>\n",
       "      <td>1</td>\n",
       "      <td>204.00</td>\n",
       "      <td>1</td>\n",
       "      <td>1</td>\n",
       "      <td>1</td>\n",
       "      <td>111</td>\n",
       "      <td>3</td>\n",
       "    </tr>\n",
       "    <tr>\n",
       "      <th>1759</th>\n",
       "      <td>15292</td>\n",
       "      <td>203</td>\n",
       "      <td>1</td>\n",
       "      <td>180.94</td>\n",
       "      <td>1</td>\n",
       "      <td>1</td>\n",
       "      <td>1</td>\n",
       "      <td>111</td>\n",
       "      <td>3</td>\n",
       "    </tr>\n",
       "  </tbody>\n",
       "</table>\n",
       "</div>"
      ],
      "text/plain": [
       "      CustomerID  Recency  Frequency  Monetary  R_score  F_score  M_score  \\\n",
       "1875       15454      364          1    179.10        1        1        1   \n",
       "1748       15276      245          1    135.31        1        1        1   \n",
       "636        13716      271          1    138.28        1        1        1   \n",
       "143        13017      302          1    204.00        1        1        1   \n",
       "1759       15292      203          1    180.94        1        1        1   \n",
       "\n",
       "     RFM_Segment  RFM_Score  \n",
       "1875         111          3  \n",
       "1748         111          3  \n",
       "636          111          3  \n",
       "143          111          3  \n",
       "1759         111          3  "
      ]
     },
     "execution_count": 21,
     "metadata": {},
     "output_type": "execute_result"
    }
   ],
   "source": [
    "# RFM DataFrame visualization\n",
    "#\n",
    "RFM.head( 5 )"
   ]
  },
  {
   "cell_type": "markdown",
   "metadata": {},
   "source": [
    "#### RFM-Segment & RFM-Score bar-plots"
   ]
  },
  {
   "cell_type": "code",
   "execution_count": 22,
   "metadata": {},
   "outputs": [
    {
     "data": {
      "image/png": "[encoded data removed]",
      "text/plain": [
       "<Figure size 2880x432 with 1 Axes>"
      ]
     },
     "metadata": {
      "needs_background": "light"
     },
     "output_type": "display_data"
    },
    {
     "data": {
      "image/png": "[encoded data removed]",
      "text/plain": [
       "<Figure size 1080x360 with 1 Axes>"
      ]
     },
     "metadata": {
      "needs_background": "light"
     },
     "output_type": "display_data"
    }
   ],
   "source": [
    "RFM['RFM_Segment'].hist( figsize = (40, 6), bins = RFM.RFM_Segment.nunique(), width = 0.5, color = 'tab:blue')\n",
    "plt.title('RFM Segment')\n",
    "plt.xticks(rotation = 45, size = 8);\n",
    "plt.yticks(size = 12);\n",
    "plt.show()\n",
    "\n",
    "RFM['RFM_Score'].hist( figsize = (15, 5), bins = RFM.RFM_Score.nunique(), width = 0.5, color = 'tab:green')\n",
    "plt.title('RFM Score')\n",
    "plt.xticks(rotation = 45, size = 12);\n",
    "plt.yticks(size = 12);\n",
    "plt.show()\n"
   ]
  },
  {
   "cell_type": "markdown",
   "metadata": {},
   "source": [
    "#### Average Revenue Per User"
   ]
  },
  {
   "cell_type": "code",
   "execution_count": 23,
   "metadata": {},
   "outputs": [
    {
     "data": {
      "image/png": "[encoded data removed]",
      "text/plain": [
       "<Figure size 576x432 with 2 Axes>"
      ]
     },
     "metadata": {
      "needs_background": "light"
     },
     "output_type": "display_data"
    }
   ],
   "source": [
    "ARPU = RFM.groupby(['R_score', 'F_score']).sum()[['Monetary']].reset_index().pivot('F_score', 'R_score', 'Monetary')\n",
    "\n",
    "\n",
    "plt.figure( figsize = (8, 6) );\n",
    "#\n",
    "sns.heatmap( ARPU / 1.e+6, annot = True, cmap = 'Reds');\n",
    "plt.title('Average Revenue Per User (in millions)', size = 14);"
   ]
  },
  {
   "cell_type": "markdown",
   "metadata": {},
   "source": [
    "## Customer characterization\n",
    "\n",
    "After some calculations on the RFM data we can create customer segments that are actionable and easy to understand — like the ones below:\n",
    "\n",
    "- **Champions:** Bought recently, buy often and spend the most.\n",
    "- **Loyal customers:** Buy on a regular basis. Responsive to promotions.\n",
    "- **Potential loyalist:** Recent customers with average frequency.\n",
    "- **Recent customers:** Bought most recently, but not often.\n",
    "- **Promising:** Recent shoppers, but haven’t spent much.\n",
    "- **Needs attention:** Above average recency, frequency and monetary values. May not have bought very recently though.\n",
    "- **About to sleep:** Below average recency and frequency. Will lose them if not reactivated.\n",
    "- **At risk:** Some time since they’ve purchased. Need to bring them back!\n",
    "- **Can’t lose them:** Used to purchase frequently but haven’t returned for a long time.\n",
    "- **Hibernating:** Last purchase was long back and low number of orders. May be lost.\n",
    "\n",
    "**4-class scheme**\n",
    "\n",
    "<img src=\"images/Customer_segmentation_4-class.png\" alt=\"drawing\" width=\"500\"/>\n",
    "\n",
    "    \n",
    "**5-class scheme**\n",
    "\n",
    "<img src=\"images/Customer_segmentation_5-class.png\" alt=\"drawing\" width=\"550\"/>"
   ]
  },
  {
   "cell_type": "code",
   "execution_count": 24,
   "metadata": {},
   "outputs": [
    {
     "data": {
      "image/png": "[encoded data removed]",
      "text/plain": [
       "<Figure size 1080x432 with 1 Axes>"
      ]
     },
     "metadata": {
      "needs_background": "light"
     },
     "output_type": "display_data"
    }
   ],
   "source": [
    "# Create human friendly RFM labels\n",
    "\n",
    "# Segment map - In case of 4 bins\n",
    "# segt_map = {\n",
    "#     r'1[1-2]': 'Hibernating',\n",
    "#     r'13': 'At risk',\n",
    "#     r'14': 'Can\\'t loose them',\n",
    "#     r'21': 'About to sleep',\n",
    "#     r'22': 'Need attention',\n",
    "#     r'[2-3][3-4]': 'Loyal customers',\n",
    "#     r'31': 'Promising',\n",
    "#     r'41': 'New customers',\n",
    "#     r'[3-4]2': 'Potential loyalists',\n",
    "#     r'4[3-4]': 'Champions'\n",
    "# }\n",
    "\n",
    "# Segment map - In case of 5 bins\n",
    "segt_map = {\n",
    "    r'[1-2][1-2]': 'hibernating',\n",
    "    r'[1-2][3-4]': 'at_risk',\n",
    "    r'[1-2]5': 'cant_loose',\n",
    "    r'3[1-2]': 'about_to_sleep',\n",
    "    r'33': 'need_attention',\n",
    "    r'[3-4][4-5]': 'loyal_customers',\n",
    "    r'41': 'promising',\n",
    "    r'51': 'new_customers',\n",
    "    r'[4-5][2-3]': 'potential_loyalists',\n",
    "    r'5[4-5]': 'champions'\n",
    "}\n",
    "\n",
    "RFM['Segment'] = RFM['R_score'].map(str) + RFM['F_score'].map(str)\n",
    "RFM['Segment'] = RFM['Segment'].replace(segt_map, regex=True)\n",
    "\n",
    "RFM['Segment'].hist( figsize = (15, 6), bins = RFM['Segment'].nunique()*2, color = 'tab:blue')\n",
    "plt.xticks( size = 14, rotation = 45);"
   ]
  },
  {
   "cell_type": "code",
   "execution_count": 25,
   "metadata": {},
   "outputs": [
    {
     "data": {
      "image/png": "[encoded data removed]",
      "text/plain": [
       "<Figure size 864x360 with 1 Axes>"
      ]
     },
     "metadata": {
      "needs_background": "light"
     },
     "output_type": "display_data"
    }
   ],
   "source": [
    "# Create some human friendly labels for the scores\n",
    "#\n",
    "RFM[ 'Score' ] = 'Green'\n",
    "RFM.loc[ RFM['RFM_Score'] >  6, 'Score' ] = 'Bronze' \n",
    "RFM.loc[ RFM['RFM_Score'] >  8, 'Score' ] = 'Silver' \n",
    "RFM.loc[ RFM['RFM_Score'] > 11, 'Score' ] = 'Gold' \n",
    "RFM.loc[ RFM['RFM_Score'] > 12, 'Score' ] = 'Platinum'\n",
    "\n",
    "# DataFrame visualization\n",
    "#\n",
    "RFM[ 'Score' ].hist( figsize = (12, 5));\n",
    "plt.xticks( size = 14, rotation = 45);"
   ]
  },
  {
   "cell_type": "markdown",
   "metadata": {},
   "source": [
    "## K-means to perform RFM (Recency, Frequency, and Monetary) customer segmentation. "
   ]
  },
  {
   "cell_type": "markdown",
   "metadata": {},
   "source": [
    "### Skewness check\n",
    "\n",
    "Plotting distribution charts to check for skewness"
   ]
  },
  {
   "cell_type": "code",
   "execution_count": 26,
   "metadata": {},
   "outputs": [
    {
     "name": "stdout",
     "output_type": "stream",
     "text": [
      "Recency's: Skew: 1.9245094462584071, : SkewtestResult(statistic=33.34069789744037, pvalue=9.936618739179749e-244)\n"
     ]
    },
    {
     "data": {
      "image/png": "[encoded data removed]",
      "text/plain": [
       "<Figure size 720x216 with 1 Axes>"
      ]
     },
     "metadata": {
      "needs_background": "light"
     },
     "output_type": "display_data"
    },
    {
     "name": "stdout",
     "output_type": "stream",
     "text": [
      "Frequency's: Skew: 10.746961292788324, : SkewtestResult(statistic=68.54304953170006, pvalue=0.0)\n"
     ]
    },
    {
     "data": {
      "image/png": "[encoded data removed]",
      "text/plain": [
       "<Figure size 720x216 with 1 Axes>"
      ]
     },
     "metadata": {
      "needs_background": "light"
     },
     "output_type": "display_data"
    },
    {
     "name": "stdout",
     "output_type": "stream",
     "text": [
      "Monetary's: Skew: 20.734482503010387, : SkewtestResult(statistic=82.29986955964505, pvalue=0.0)\n"
     ]
    },
    {
     "data": {
      "image/png": "[encoded data removed]",
      "text/plain": [
       "<Figure size 720x216 with 1 Axes>"
      ]
     },
     "metadata": {
      "needs_background": "light"
     },
     "output_type": "display_data"
    }
   ],
   "source": [
    "# Plot all Distrubution graphs of Recency, Frequency & Monetary\n",
    "\n",
    "check_skew(RFM, 'Recency');\n",
    "\n",
    "check_skew(RFM, 'Frequency');\n",
    "\n",
    "check_skew(RFM, 'Monetary');"
   ]
  },
  {
   "cell_type": "markdown",
   "metadata": {},
   "source": [
    "#### Data transformation\n",
    "\n",
    "The data is highly skewed,therefore we will perform log transformations to reduce the skewness of each variable. I added a small constant as log transformation demands all the values to be positive."
   ]
  },
  {
   "cell_type": "code",
   "execution_count": 27,
   "metadata": {},
   "outputs": [
    {
     "name": "stdout",
     "output_type": "stream",
     "text": [
      "[INFO] Data were transformed\n"
     ]
    }
   ],
   "source": [
    "# # Make a copy of the DataFrame\n",
    "# # \n",
    "# RFM_log = RFM[ ['Recency', 'Frequency', 'Monetary']].copy()\n",
    "\n",
    "# # Log features\n",
    "# #\n",
    "# VALUE = max(0, -RFM_log.min().min()) + 1\n",
    "# RFM_log = np.log(RFM_log + VALUE)\n",
    "\n",
    "\n",
    "# Setup transformer\n",
    "pt = PowerTransformer(method = 'box-cox') # method = {'yeo-johnson', 'box-cox'}\n",
    "\n",
    "# Apply transformation\n",
    "RFM_log = pd.DataFrame(data = pt.fit_transform( RFM[ ['Recency', 'Frequency', 'Monetary']] ),\n",
    "                       columns = ['Recency', 'Frequency', 'Monetary'])\n",
    "\n",
    "print('[INFO] Data were transformed')"
   ]
  },
  {
   "cell_type": "code",
   "execution_count": 28,
   "metadata": {},
   "outputs": [
    {
     "name": "stdout",
     "output_type": "stream",
     "text": [
      "Recency's: Skew: -0.0509704580482333, : SkewtestResult(statistic=-1.3042985874077486, pvalue=0.19213179676945613)\n"
     ]
    },
    {
     "data": {
      "image/png": "[encoded data removed]",
      "text/plain": [
       "<Figure size 720x216 with 1 Axes>"
      ]
     },
     "metadata": {
      "needs_background": "light"
     },
     "output_type": "display_data"
    },
    {
     "name": "stdout",
     "output_type": "stream",
     "text": [
      "Frequency's: Skew: 0.1440230169096365, : SkewtestResult(statistic=3.669071668188207, pvalue=0.00024343283460942776)\n"
     ]
    },
    {
     "data": {
      "image/png": "[encoded data removed]",
      "text/plain": [
       "<Figure size 720x216 with 1 Axes>"
      ]
     },
     "metadata": {
      "needs_background": "light"
     },
     "output_type": "display_data"
    },
    {
     "name": "stdout",
     "output_type": "stream",
     "text": [
      "Monetary's: Skew: -0.014418629323513506, : SkewtestResult(statistic=-0.3691816341039014, pvalue=0.711992344335064)\n"
     ]
    },
    {
     "data": {
      "image/png": "[encoded data removed]",
      "text/plain": [
       "<Figure size 720x216 with 1 Axes>"
      ]
     },
     "metadata": {
      "needs_background": "light"
     },
     "output_type": "display_data"
    }
   ],
   "source": [
    "# Plot all Distrubution graphs of Recency, Frequency & Monetary\n",
    "#\n",
    "check_skew(RFM_log, 'Recency');\n",
    "\n",
    "check_skew(RFM_log, 'Frequency');\n",
    "\n",
    "check_skew(RFM_log, 'Monetary');"
   ]
  },
  {
   "cell_type": "markdown",
   "metadata": {},
   "source": [
    "#### Winsorizing\n",
    "\n",
    "Winsorizing or winsorization is the transformation of statistics by limiting extreme values in the statistical data to reduce the effect of possibly spurious outliers. It is named after the engineer-turned-biostatistician Charles P. Winsor (1895–1951). The effect is the same as clipping in signal processing."
   ]
  },
  {
   "cell_type": "code",
   "execution_count": 29,
   "metadata": {},
   "outputs": [],
   "source": [
    "windsoriser = Winsorizer(tail      = 'both', # cap left, right or both tails \n",
    "                         fold      = 2,\n",
    "                         variables = [ 'Recency', 'Frequency', 'Monetary']\n",
    "                        )\n",
    "\n",
    "windsoriser.fit( RFM_log )\n",
    "\n",
    "RFM_log = windsoriser.transform( RFM_log )"
   ]
  },
  {
   "cell_type": "markdown",
   "metadata": {},
   "source": [
    "### Standarization\n",
    "\n",
    "Once the skewness is reduced, I standardised the data by centring and scaling. Note all the variables now have a mean of 0 and a standard deviation of 1."
   ]
  },
  {
   "cell_type": "code",
   "execution_count": 30,
   "metadata": {},
   "outputs": [],
   "source": [
    "# Setup scaler\n",
    "# \n",
    "scaler = StandardScaler()\n",
    "\n",
    "# Fit scaler\n",
    "scaler.fit( RFM_log )\n",
    "\n",
    "RFM_log_scaled = pd.DataFrame(data    = scaler.transform(RFM_log), \n",
    "                              columns = RFM_log.columns)"
   ]
  },
  {
   "cell_type": "markdown",
   "metadata": {},
   "source": [
    "### K-Means clustering process"
   ]
  },
  {
   "cell_type": "markdown",
   "metadata": {},
   "source": [
    "### Finding the optimal number of clusters"
   ]
  },
  {
   "cell_type": "code",
   "execution_count": 31,
   "metadata": {},
   "outputs": [
    {
     "name": "stdout",
     "output_type": "stream",
     "text": [
      "K =  2 Silhouette Score 0.441\n",
      "K =  3 Silhouette Score 0.332\n",
      "K =  4 Silhouette Score 0.351\n",
      "K =  5 Silhouette Score 0.334\n",
      "K =  6 Silhouette Score 0.332\n",
      "K =  7 Silhouette Score 0.318\n",
      "K =  8 Silhouette Score 0.310\n",
      "K =  9 Silhouette Score 0.306\n",
      "K = 10 Silhouette Score 0.297\n"
     ]
    }
   ],
   "source": [
    "from scipy.spatial.distance import cdist\n",
    "from sklearn.metrics        import silhouette_score\n",
    "\n",
    "distortions = [] \n",
    "inertias    = [] \n",
    "Clusters    = [ [] ]\n",
    "Centroids   = [ [] ]\n",
    "K = range(1, 11)\n",
    "  \n",
    "for k in K: \n",
    "    # Setup K-Means model     \n",
    "    model = KMeans(n_clusters = k, random_state = 42)\n",
    "    \n",
    "    # Fit model\n",
    "    model.fit( RFM_log_scaled )     \n",
    "\n",
    "    # Store clusters\n",
    "    Clusters  += [ model.labels_.tolist() ]\n",
    "    \n",
    "    # Get centroids\n",
    "    Centroids += [ model.cluster_centers_ ]\n",
    "\n",
    "    # Calculate distortions\n",
    "    distortions.append( sum(np.min(cdist(RFM_log_scaled, model.cluster_centers_, 'euclidean'), axis = 1)) / RFM_log_scaled.shape[0] ) \n",
    "\n",
    "    # Calculate inertias\n",
    "    inertias.append( model.inertia_ ) \n",
    "  \n",
    "    # Calculate Silhouette score\n",
    "    if (k > 1):\n",
    "        Sil = silhouette_score(X     = RFM_log_scaled, \n",
    "                              labels = model.labels_)\n",
    "\n",
    "        print('K = %2i Silhouette Score %.3f' % (k, Sil))\n",
    "    "
   ]
  },
  {
   "cell_type": "markdown",
   "metadata": {},
   "source": [
    "#### Elbow Method using Distortion and Inertia"
   ]
  },
  {
   "cell_type": "code",
   "execution_count": 32,
   "metadata": {},
   "outputs": [
    {
     "data": {
      "image/png": "[encoded data removed]",
      "text/plain": [
       "<Figure size 1584x360 with 2 Axes>"
      ]
     },
     "metadata": {
      "needs_background": "light"
     },
     "output_type": "display_data"
    }
   ],
   "source": [
    "fig, ax = plt.subplots(nrows = 1, ncols = 2, figsize = (22, 5) )\n",
    "#\n",
    "ax[0].plot(K, distortions, 'bx-') \n",
    "ax[0].set_xlabel('Values of K', size = 12) \n",
    "ax[0].set_ylabel('Distortion', size = 12) \n",
    "ax[0].set_title('The Elbow Method using Distortion', size = 14) \n",
    "#\n",
    "ax[1].plot(K, inertias, 'bx-') \n",
    "ax[1].set_xlabel('Values of K', size = 12) \n",
    "ax[1].set_ylabel('Inertia', size = 12) \n",
    "ax[1].set_title('The Elbow Method using Inertia', size = 14)\n",
    "#\n",
    "#\n",
    "plt.show();\n"
   ]
  },
  {
   "cell_type": "markdown",
   "metadata": {},
   "source": [
    "#### Cluster visualization"
   ]
  },
  {
   "cell_type": "code",
   "execution_count": 33,
   "metadata": {},
   "outputs": [],
   "source": [
    "import umap\n",
    "\n",
    "UMAP_arg    = { 'n_neighbors': 30, \n",
    "                'min_dist':    0.01 }\n",
    "\n",
    "# =-=-=-=-=-=-=-=-=-=-=-=-=-=-=-=-=-=-=-=-=-=-=-=-=-=-=-=-=-=-=-=-=-=-=-=-=-=\n",
    "# Apply UMAP\n",
    "#\n",
    "umapModel = umap.UMAP(n_neighbors  = UMAP_arg['n_neighbors'],\n",
    "                      min_dist     = UMAP_arg['min_dist'],\n",
    "                      n_components = 2,\n",
    "                      random_state = 42)\n",
    "\n",
    "embeddings = umapModel.fit_transform( RFM_log_scaled[ ['Recency', 'Frequency', 'Monetary'] ].to_numpy() )"
   ]
  },
  {
   "cell_type": "code",
   "execution_count": 34,
   "metadata": {},
   "outputs": [
    {
     "data": {
      "image/png": "[encoded data removed]",
      "text/plain": [
       "<Figure size 504x504 with 1 Axes>"
      ]
     },
     "metadata": {
      "needs_background": "light"
     },
     "output_type": "display_data"
    },
    {
     "data": {
      "image/png": "[encoded data removed]",
      "text/plain": [
       "<Figure size 504x504 with 1 Axes>"
      ]
     },
     "metadata": {
      "needs_background": "light"
     },
     "output_type": "display_data"
    }
   ],
   "source": [
    "# Create DataFrame\n",
    "# \n",
    "clustering_df = pd.DataFrame( embeddings, columns = ['x', 'y'] )\n",
    "\n",
    "for k in [2, 3]:\n",
    "        \n",
    "    # Get Cluster    \n",
    "    #\n",
    "    clustering_df['Cluster'] = Clusters[k]\n",
    "\n",
    "\n",
    "    # Clustering visualization in 2D\n",
    "    #\n",
    "    plt.figure( figsize = (7, 7) )\n",
    "    sns.scatterplot(data = clustering_df, x = 'x', y = 'y', hue = 'Cluster')\n",
    "\n",
    "    # Plot centroids\n",
    "    #\n",
    "    centers = umapModel.transform( Centroids[ k ] )\n",
    "    plt.scatter(centers[:, 0], centers[:, 1], marker='o', c=\"white\", alpha=1, s=200, edgecolor='k')\n",
    "    for i, c in enumerate( centers ):\n",
    "            plt.scatter(c[0], c[1], marker='$%d$' % i, alpha=1, s = 50, edgecolor='k')\n",
    "\n",
    "    plt.show()"
   ]
  },
  {
   "cell_type": "markdown",
   "metadata": {},
   "source": [
    "#### Snake plots"
   ]
  },
  {
   "cell_type": "code",
   "execution_count": 35,
   "metadata": {},
   "outputs": [
    {
     "data": {
      "image/png": "[encoded data removed]",
      "text/plain": [
       "<Figure size 1080x288 with 1 Axes>"
      ]
     },
     "metadata": {
      "needs_background": "light"
     },
     "output_type": "display_data"
    },
    {
     "data": {
      "image/png": "[encoded data removed]",
      "text/plain": [
       "<Figure size 1080x288 with 1 Axes>"
      ]
     },
     "metadata": {
      "needs_background": "light"
     },
     "output_type": "display_data"
    }
   ],
   "source": [
    "for k in [2, 3]:\n",
    "    snake_plot(RFM_log_scaled.copy(), Clusters[k], RFM['CustomerID'])"
   ]
  },
  {
   "cell_type": "markdown",
   "metadata": {},
   "source": [
    "### Clustering evaluation\n",
    "\n",
    "- Silhouette visualizer"
   ]
  },
  {
   "cell_type": "code",
   "execution_count": 36,
   "metadata": {},
   "outputs": [],
   "source": [
    "# Selected number of clusters\n",
    "# \n",
    "n_clusters = 3\n",
    "\n",
    "# Setup model\n",
    "model = KMeans(n_clusters = n_clusters).fit( RFM_log_scaled ) \n",
    "\n",
    "# Fit model\n",
    "model.fit( RFM_log_scaled )     \n",
    "\n",
    "# Get Clustering-Results\n",
    "RFM[ 'Cluster' ] = model.labels_"
   ]
  },
  {
   "cell_type": "code",
   "execution_count": 37,
   "metadata": {},
   "outputs": [
    {
     "data": {
      "image/png": "[encoded data removed]",
      "text/plain": [
       "<Figure size 720x360 with 1 Axes>"
      ]
     },
     "metadata": {
      "needs_background": "light"
     },
     "output_type": "display_data"
    }
   ],
   "source": [
    "from sklearn.metrics import silhouette_samples, silhouette_score\n",
    "import matplotlib.cm as cm\n",
    "\n",
    "plt.figure( figsize = (10, 5))\n",
    "\n",
    "\n",
    "Sil = silhouette_score(X      = RFM_log_scaled, \n",
    "                       labels = RFM[ 'Cluster' ])\n",
    "\n",
    "\n",
    "sample_silhouette_values = silhouette_samples(X = RFM_log_scaled, labels = RFM['Cluster'])\n",
    "\n",
    "y_lower = 10\n",
    "for i in range( n_clusters ):\n",
    "    ith_cluster_silhouette_values = sample_silhouette_values[ RFM['Cluster'] == i ]\n",
    "\n",
    "    ith_cluster_silhouette_values.sort()\n",
    "\n",
    "    size_cluster_i = ith_cluster_silhouette_values.shape[0]\n",
    "    y_upper = y_lower + size_cluster_i\n",
    "\n",
    "    color = cm.Spectral(float(i) / n_clusters)\n",
    "    plt.fill_betweenx(np.arange(y_lower, y_upper),\n",
    "                      0, ith_cluster_silhouette_values,\n",
    "                      facecolor=color, edgecolor=color, alpha=0.7)\n",
    "\n",
    "    plt.text(-0.05, y_lower + 0.5 * size_cluster_i, str(i))\n",
    "    y_lower = y_upper + 10  # 10 for the 0 samples\n",
    "    \n",
    "    \n",
    "plt.axvline(x = Sil, color=\"red\", linestyle=\"--\")\n",
    "\n",
    "# Set figure title\n",
    "#\n",
    "plt.title('The silhouette plot for the various clusters');"
   ]
  },
  {
   "cell_type": "markdown",
   "metadata": {},
   "source": [
    "### Interpretation of the clusters formed using k-means\n",
    " "
   ]
  },
  {
   "cell_type": "code",
   "execution_count": 38,
   "metadata": {},
   "outputs": [
    {
     "data": {
      "text/html": [
       "<div>\n",
       "<style scoped>\n",
       "    .dataframe tbody tr th:only-of-type {\n",
       "        vertical-align: middle;\n",
       "    }\n",
       "\n",
       "    .dataframe tbody tr th {\n",
       "        vertical-align: top;\n",
       "    }\n",
       "\n",
       "    .dataframe thead tr th {\n",
       "        text-align: left;\n",
       "    }\n",
       "\n",
       "    .dataframe thead tr:last-of-type th {\n",
       "        text-align: right;\n",
       "    }\n",
       "</style>\n",
       "<table border=\"1\" class=\"dataframe\">\n",
       "  <thead>\n",
       "    <tr>\n",
       "      <th></th>\n",
       "      <th>Recency</th>\n",
       "      <th>Frequency</th>\n",
       "      <th colspan=\"2\" halign=\"left\">Monetary</th>\n",
       "    </tr>\n",
       "    <tr>\n",
       "      <th></th>\n",
       "      <th>mean</th>\n",
       "      <th>mean</th>\n",
       "      <th>mean</th>\n",
       "      <th>count</th>\n",
       "    </tr>\n",
       "    <tr>\n",
       "      <th>Cluster</th>\n",
       "      <th></th>\n",
       "      <th></th>\n",
       "      <th></th>\n",
       "      <th></th>\n",
       "    </tr>\n",
       "  </thead>\n",
       "  <tbody>\n",
       "    <tr>\n",
       "      <th>0</th>\n",
       "      <td>25.922190</td>\n",
       "      <td>10.411143</td>\n",
       "      <td>5310.464544</td>\n",
       "      <td>1041</td>\n",
       "    </tr>\n",
       "    <tr>\n",
       "      <th>1</th>\n",
       "      <td>186.935003</td>\n",
       "      <td>1.146242</td>\n",
       "      <td>287.032513</td>\n",
       "      <td>1477</td>\n",
       "    </tr>\n",
       "    <tr>\n",
       "      <th>2</th>\n",
       "      <td>81.785867</td>\n",
       "      <td>2.936474</td>\n",
       "      <td>912.967411</td>\n",
       "      <td>1401</td>\n",
       "    </tr>\n",
       "  </tbody>\n",
       "</table>\n",
       "</div>"
      ],
      "text/plain": [
       "            Recency  Frequency     Monetary      \n",
       "               mean       mean         mean count\n",
       "Cluster                                          \n",
       "0         25.922190  10.411143  5310.464544  1041\n",
       "1        186.935003   1.146242   287.032513  1477\n",
       "2         81.785867   2.936474   912.967411  1401"
      ]
     },
     "execution_count": 38,
     "metadata": {},
     "output_type": "execute_result"
    }
   ],
   "source": [
    "RFM.groupby(['Cluster']).agg({'Recency'   : 'mean',\n",
    "                              'Frequency' : 'mean',\n",
    "                              'Monetary'  :  ['mean', 'count']})"
   ]
  },
  {
   "cell_type": "code",
   "execution_count": 39,
   "metadata": {},
   "outputs": [
    {
     "data": {
      "text/html": [
       "<div>\n",
       "<style scoped>\n",
       "    .dataframe tbody tr th:only-of-type {\n",
       "        vertical-align: middle;\n",
       "    }\n",
       "\n",
       "    .dataframe tbody tr th {\n",
       "        vertical-align: top;\n",
       "    }\n",
       "\n",
       "    .dataframe thead th {\n",
       "        text-align: right;\n",
       "    }\n",
       "</style>\n",
       "<table border=\"1\" class=\"dataframe\">\n",
       "  <thead>\n",
       "    <tr style=\"text-align: right;\">\n",
       "      <th></th>\n",
       "      <th></th>\n",
       "      <th>CustomerID</th>\n",
       "    </tr>\n",
       "    <tr>\n",
       "      <th>Cluster</th>\n",
       "      <th>Score</th>\n",
       "      <th></th>\n",
       "    </tr>\n",
       "  </thead>\n",
       "  <tbody>\n",
       "    <tr>\n",
       "      <th rowspan=\"3\" valign=\"top\">0</th>\n",
       "      <th>Gold</th>\n",
       "      <td>166</td>\n",
       "    </tr>\n",
       "    <tr>\n",
       "      <th>Platinum</th>\n",
       "      <td>855</td>\n",
       "    </tr>\n",
       "    <tr>\n",
       "      <th>Silver</th>\n",
       "      <td>20</td>\n",
       "    </tr>\n",
       "    <tr>\n",
       "      <th rowspan=\"3\" valign=\"top\">1</th>\n",
       "      <th>Bronze</th>\n",
       "      <td>305</td>\n",
       "    </tr>\n",
       "    <tr>\n",
       "      <th>Green</th>\n",
       "      <td>1160</td>\n",
       "    </tr>\n",
       "    <tr>\n",
       "      <th>Silver</th>\n",
       "      <td>12</td>\n",
       "    </tr>\n",
       "    <tr>\n",
       "      <th rowspan=\"5\" valign=\"top\">2</th>\n",
       "      <th>Bronze</th>\n",
       "      <td>359</td>\n",
       "    </tr>\n",
       "    <tr>\n",
       "      <th>Gold</th>\n",
       "      <td>127</td>\n",
       "    </tr>\n",
       "    <tr>\n",
       "      <th>Green</th>\n",
       "      <td>20</td>\n",
       "    </tr>\n",
       "    <tr>\n",
       "      <th>Platinum</th>\n",
       "      <td>4</td>\n",
       "    </tr>\n",
       "    <tr>\n",
       "      <th>Silver</th>\n",
       "      <td>891</td>\n",
       "    </tr>\n",
       "  </tbody>\n",
       "</table>\n",
       "</div>"
      ],
      "text/plain": [
       "                  CustomerID\n",
       "Cluster Score               \n",
       "0       Gold             166\n",
       "        Platinum         855\n",
       "        Silver            20\n",
       "1       Bronze           305\n",
       "        Green           1160\n",
       "        Silver            12\n",
       "2       Bronze           359\n",
       "        Gold             127\n",
       "        Green             20\n",
       "        Platinum           4\n",
       "        Silver           891"
      ]
     },
     "execution_count": 39,
     "metadata": {},
     "output_type": "execute_result"
    },
    {
     "data": {
      "image/png": "[encoded data removed]",
      "text/plain": [
       "<Figure size 1440x432 with 1 Axes>"
      ]
     },
     "metadata": {
      "needs_background": "light"
     },
     "output_type": "display_data"
    }
   ],
   "source": [
    "# Create an array with the colors you want to use\n",
    "colors = [\"green\", \"darkkhaki\", \"silver\", \"gold\",  \"lightyellow\"]\n",
    "\n",
    "# Set your custom color palette\n",
    "sns.set_palette( sns.color_palette(colors) )\n",
    "\n",
    "\n",
    "\n",
    "plt.figure( figsize = (20, 6) )\n",
    "#\n",
    "#\n",
    "sns.histplot(data = RFM, x = 'Cluster', hue = 'Score', multiple=\"dodge\", )\n",
    "#\n",
    "plt.xticks( np.arange(n_clusters), size = 12 );\n",
    "plt.yticks( size = 12 );\n",
    "#\n",
    "plt.xlabel('Cluster', size = 14);\n",
    "plt.ylabel('Count',   size = 14);\n",
    "\n",
    "RFM.groupby(['Cluster', 'Score']).count()[ ['CustomerID'] ]"
   ]
  },
  {
   "cell_type": "code",
   "execution_count": 40,
   "metadata": {},
   "outputs": [
    {
     "data": {
      "image/png": "[encoded data removed]",
      "text/plain": [
       "<Figure size 2160x288 with 1 Axes>"
      ]
     },
     "metadata": {
      "needs_background": "light"
     },
     "output_type": "display_data"
    }
   ],
   "source": [
    "# Create an array with the colors you want to use\n",
    "# colors = [\"green\", \"darkkhaki\", \"silver\", \"gold\",  \"lightyellow\"]\n",
    "\n",
    "# Set your custom color palette\n",
    "# sns.set_palette( sns.color_palette(colors) )\n",
    "\n",
    "\n",
    "\n",
    "plt.figure( figsize = (30, 4) )\n",
    "#\n",
    "#\n",
    "g = sns.histplot(data = RFM, hue = 'Cluster', x = 'Segment', multiple = 'dodge', color = \"lime\")\n",
    "#\n",
    "plt.xticks( size = 12 );\n",
    "plt.yticks( size = 12 );\n",
    "#\n",
    "plt.xlabel('Cluster', size = 14);\n",
    "plt.ylabel('Count',   size = 14);\n",
    "\n",
    "\n",
    "# RFM.groupby(['Cluster', 'Segment']).count()[ ['CustomerID'] ]"
   ]
  },
  {
   "cell_type": "markdown",
   "metadata": {},
   "source": [
    "# Customer Life-Time Value\n",
    "\n",
    "<!-- <p align=\"center\"> -->\n",
    "<img src=\"images/CLTV.png\" alt=\"drawing\" width=\"1000\"/>\n",
    "\n",
    "\n",
    "\n",
    "\n",
    "*80% of the effect comes from 20% of the causes, this is known as 80/20 rule or Pareto principle...*\n",
    "\n",
    "                                                            Vilfredo Pareto"
   ]
  },
  {
   "cell_type": "markdown",
   "metadata": {},
   "source": [
    "## Calculate CLTV"
   ]
  },
  {
   "cell_type": "code",
   "execution_count": 41,
   "metadata": {},
   "outputs": [],
   "source": [
    "def create_cltv_calculated( RFM ):\n",
    "\n",
    "    dataframe = RFM.copy()\n",
    "\n",
    "    # Average Order Value (AOV)\n",
    "    #\n",
    "    dataframe['Average_Order_Value'] = dataframe['Monetary'] / dataframe['Frequency']\n",
    "\n",
    "    # Purchase_Frequency (PM)\n",
    "    #\n",
    "    dataframe[\"Purchase_Frequency\"] = dataframe['Frequency'] / dataframe.shape[0]\n",
    "\n",
    "    # Repeat rate & Churn rate\n",
    "    #\n",
    "    repeat_rate = dataframe[dataframe['Frequency'] > 1].shape[0] / dataframe.shape[0]\n",
    "    churn_rate  = 1 - repeat_rate\n",
    "\n",
    "    # Profit Margin\n",
    "    #\n",
    "    dataframe['Profit_Margin'] = dataframe['Monetary'] * 0.10\n",
    "\n",
    "    # Customer Value (CV)\n",
    "    #\n",
    "    dataframe['Customer_Value'] = dataframe['Average_Order_Value'] * dataframe[\"Purchase_Frequency\"]\n",
    "\n",
    "    # Customer Life-Time Value (CLTV)\n",
    "    #\n",
    "    dataframe['CLTV'] = (dataframe['Customer_Value'] / churn_rate) * dataframe['Profit_Margin']\n",
    "\n",
    "\n",
    "    # MinMax-scaling\n",
    "    #\n",
    "    # Setup scaler\n",
    "    scaler = MinMaxScaler(feature_range = (1, 100))\n",
    "    # Apply scaler\n",
    "    dataframe[\"CLTV_calculated\"] = scaler.fit_transform( dataframe[[\"CLTV\"]] )\n",
    "\n",
    "    # Calculate CLTV segments\n",
    "    dataframe[\"CLTV_calculated_segment\"] = pd.qcut(dataframe[\"CLTV_calculated\"], 4, labels = ['D', 'C', 'B', 'A'])\n",
    "\n",
    "    dataframe = dataframe[[ \"CustomerID\", \"Recency\", \"Frequency\", \"Monetary\", \"Segment\", \"CLTV\", \"CLTV_calculated\", \"CLTV_calculated_segment\"]]\n",
    "    dataframe.set_index('CustomerID', inplace = True)\n",
    "    \n",
    "    return dataframe"
   ]
  },
  {
   "cell_type": "code",
   "execution_count": 42,
   "metadata": {},
   "outputs": [
    {
     "data": {
      "text/html": [
       "<div>\n",
       "<style scoped>\n",
       "    .dataframe tbody tr th:only-of-type {\n",
       "        vertical-align: middle;\n",
       "    }\n",
       "\n",
       "    .dataframe tbody tr th {\n",
       "        vertical-align: top;\n",
       "    }\n",
       "\n",
       "    .dataframe thead th {\n",
       "        text-align: right;\n",
       "    }\n",
       "</style>\n",
       "<table border=\"1\" class=\"dataframe\">\n",
       "  <thead>\n",
       "    <tr style=\"text-align: right;\">\n",
       "      <th></th>\n",
       "      <th>Recency</th>\n",
       "      <th>Frequency</th>\n",
       "      <th>Monetary</th>\n",
       "      <th>Segment</th>\n",
       "      <th>CLTV</th>\n",
       "      <th>CLTV_calculated</th>\n",
       "      <th>CLTV_calculated_segment</th>\n",
       "    </tr>\n",
       "    <tr>\n",
       "      <th>CustomerID</th>\n",
       "      <th></th>\n",
       "      <th></th>\n",
       "      <th></th>\n",
       "      <th></th>\n",
       "      <th></th>\n",
       "      <th></th>\n",
       "      <th></th>\n",
       "    </tr>\n",
       "  </thead>\n",
       "  <tbody>\n",
       "    <tr>\n",
       "      <th>15454</th>\n",
       "      <td>364</td>\n",
       "      <td>1</td>\n",
       "      <td>179.10</td>\n",
       "      <td>hibernating</td>\n",
       "      <td>2.377821</td>\n",
       "      <td>1.000047</td>\n",
       "      <td>D</td>\n",
       "    </tr>\n",
       "    <tr>\n",
       "      <th>15276</th>\n",
       "      <td>245</td>\n",
       "      <td>1</td>\n",
       "      <td>135.31</td>\n",
       "      <td>hibernating</td>\n",
       "      <td>1.357212</td>\n",
       "      <td>1.000027</td>\n",
       "      <td>D</td>\n",
       "    </tr>\n",
       "    <tr>\n",
       "      <th>13716</th>\n",
       "      <td>271</td>\n",
       "      <td>1</td>\n",
       "      <td>138.28</td>\n",
       "      <td>hibernating</td>\n",
       "      <td>1.417447</td>\n",
       "      <td>1.000028</td>\n",
       "      <td>D</td>\n",
       "    </tr>\n",
       "    <tr>\n",
       "      <th>13017</th>\n",
       "      <td>302</td>\n",
       "      <td>1</td>\n",
       "      <td>204.00</td>\n",
       "      <td>hibernating</td>\n",
       "      <td>3.084952</td>\n",
       "      <td>1.000061</td>\n",
       "      <td>D</td>\n",
       "    </tr>\n",
       "    <tr>\n",
       "      <th>15292</th>\n",
       "      <td>203</td>\n",
       "      <td>1</td>\n",
       "      <td>180.94</td>\n",
       "      <td>hibernating</td>\n",
       "      <td>2.426930</td>\n",
       "      <td>1.000048</td>\n",
       "      <td>D</td>\n",
       "    </tr>\n",
       "    <tr>\n",
       "      <th>14280</th>\n",
       "      <td>198</td>\n",
       "      <td>1</td>\n",
       "      <td>134.04</td>\n",
       "      <td>hibernating</td>\n",
       "      <td>1.331855</td>\n",
       "      <td>1.000026</td>\n",
       "      <td>D</td>\n",
       "    </tr>\n",
       "    <tr>\n",
       "      <th>14271</th>\n",
       "      <td>227</td>\n",
       "      <td>1</td>\n",
       "      <td>112.32</td>\n",
       "      <td>hibernating</td>\n",
       "      <td>0.935195</td>\n",
       "      <td>1.000019</td>\n",
       "      <td>D</td>\n",
       "    </tr>\n",
       "    <tr>\n",
       "      <th>15307</th>\n",
       "      <td>216</td>\n",
       "      <td>1</td>\n",
       "      <td>205.30</td>\n",
       "      <td>hibernating</td>\n",
       "      <td>3.124395</td>\n",
       "      <td>1.000062</td>\n",
       "      <td>D</td>\n",
       "    </tr>\n",
       "    <tr>\n",
       "      <th>13033</th>\n",
       "      <td>359</td>\n",
       "      <td>1</td>\n",
       "      <td>190.55</td>\n",
       "      <td>hibernating</td>\n",
       "      <td>2.691572</td>\n",
       "      <td>1.000053</td>\n",
       "      <td>D</td>\n",
       "    </tr>\n",
       "    <tr>\n",
       "      <th>15316</th>\n",
       "      <td>328</td>\n",
       "      <td>1</td>\n",
       "      <td>165.00</td>\n",
       "      <td>hibernating</td>\n",
       "      <td>2.018162</td>\n",
       "      <td>1.000040</td>\n",
       "      <td>D</td>\n",
       "    </tr>\n",
       "  </tbody>\n",
       "</table>\n",
       "</div>"
      ],
      "text/plain": [
       "            Recency  Frequency  Monetary      Segment      CLTV  \\\n",
       "CustomerID                                                        \n",
       "15454           364          1    179.10  hibernating  2.377821   \n",
       "15276           245          1    135.31  hibernating  1.357212   \n",
       "13716           271          1    138.28  hibernating  1.417447   \n",
       "13017           302          1    204.00  hibernating  3.084952   \n",
       "15292           203          1    180.94  hibernating  2.426930   \n",
       "14280           198          1    134.04  hibernating  1.331855   \n",
       "14271           227          1    112.32  hibernating  0.935195   \n",
       "15307           216          1    205.30  hibernating  3.124395   \n",
       "13033           359          1    190.55  hibernating  2.691572   \n",
       "15316           328          1    165.00  hibernating  2.018162   \n",
       "\n",
       "            CLTV_calculated CLTV_calculated_segment  \n",
       "CustomerID                                           \n",
       "15454              1.000047                       D  \n",
       "15276              1.000027                       D  \n",
       "13716              1.000028                       D  \n",
       "13017              1.000061                       D  \n",
       "15292              1.000048                       D  \n",
       "14280              1.000026                       D  \n",
       "14271              1.000019                       D  \n",
       "15307              1.000062                       D  \n",
       "13033              1.000053                       D  \n",
       "15316              1.000040                       D  "
      ]
     },
     "execution_count": 42,
     "metadata": {},
     "output_type": "execute_result"
    }
   ],
   "source": [
    "cltv_df = create_cltv_calculated( RFM.copy() )\n",
    "\n",
    "\n",
    "cltv_df.head( 10 )"
   ]
  },
  {
   "cell_type": "code",
   "execution_count": 43,
   "metadata": {},
   "outputs": [
    {
     "data": {
      "image/png": "[encoded data removed]",
      "text/plain": [
       "<Figure size 2160x288 with 1 Axes>"
      ]
     },
     "metadata": {
      "needs_background": "light"
     },
     "output_type": "display_data"
    }
   ],
   "source": [
    "plt.figure( figsize = (30, 4) )\n",
    "#\n",
    "#\n",
    "g = sns.histplot(data = cltv_df, hue = 'CLTV_calculated_segment', x = 'Segment', multiple = 'dodge', color = \"lime\")\n",
    "#\n",
    "plt.xticks( size = 12 );\n",
    "plt.yticks( size = 12 );\n",
    "#\n",
    "plt.xlabel('Cluster', size = 14);\n",
    "plt.ylabel('Count',   size = 14);"
   ]
  },
  {
   "cell_type": "code",
   "execution_count": 44,
   "metadata": {},
   "outputs": [
    {
     "data": {
      "text/html": [
       "<div>\n",
       "<style scoped>\n",
       "    .dataframe tbody tr th:only-of-type {\n",
       "        vertical-align: middle;\n",
       "    }\n",
       "\n",
       "    .dataframe tbody tr th {\n",
       "        vertical-align: top;\n",
       "    }\n",
       "\n",
       "    .dataframe thead th {\n",
       "        text-align: right;\n",
       "    }\n",
       "</style>\n",
       "<table border=\"1\" class=\"dataframe\">\n",
       "  <thead>\n",
       "    <tr style=\"text-align: right;\">\n",
       "      <th></th>\n",
       "      <th>2010-Aug</th>\n",
       "      <th>2010-Dec</th>\n",
       "      <th>2010-Feb</th>\n",
       "      <th>2010-Jan</th>\n",
       "      <th>2010-Jul</th>\n",
       "      <th>2010-Jun</th>\n",
       "      <th>2010-Mar</th>\n",
       "      <th>2010-May</th>\n",
       "      <th>2010-Oct</th>\n",
       "      <th>2010-Sep</th>\n",
       "      <th>...</th>\n",
       "      <th>2011-Jan</th>\n",
       "      <th>2011-Jul</th>\n",
       "      <th>2011-Jun</th>\n",
       "      <th>2011-Mar</th>\n",
       "      <th>2011-May</th>\n",
       "      <th>2011-Nov</th>\n",
       "      <th>2011-Oct</th>\n",
       "      <th>2011-Sep</th>\n",
       "      <th>CLTV_calculated</th>\n",
       "      <th>CLTV_calculated_segment</th>\n",
       "    </tr>\n",
       "    <tr>\n",
       "      <th>CustomerID</th>\n",
       "      <th></th>\n",
       "      <th></th>\n",
       "      <th></th>\n",
       "      <th></th>\n",
       "      <th></th>\n",
       "      <th></th>\n",
       "      <th></th>\n",
       "      <th></th>\n",
       "      <th></th>\n",
       "      <th></th>\n",
       "      <th></th>\n",
       "      <th></th>\n",
       "      <th></th>\n",
       "      <th></th>\n",
       "      <th></th>\n",
       "      <th></th>\n",
       "      <th></th>\n",
       "      <th></th>\n",
       "      <th></th>\n",
       "      <th></th>\n",
       "      <th></th>\n",
       "    </tr>\n",
       "  </thead>\n",
       "  <tbody>\n",
       "    <tr>\n",
       "      <th>12747</th>\n",
       "      <td>0.00</td>\n",
       "      <td>347.71</td>\n",
       "      <td>0.00</td>\n",
       "      <td>0.00</td>\n",
       "      <td>0.00</td>\n",
       "      <td>0.00</td>\n",
       "      <td>0.0</td>\n",
       "      <td>358.56</td>\n",
       "      <td>0.00</td>\n",
       "      <td>0.0</td>\n",
       "      <td>...</td>\n",
       "      <td>613.82</td>\n",
       "      <td>438.50</td>\n",
       "      <td>376.30</td>\n",
       "      <td>0.00</td>\n",
       "      <td>771.31</td>\n",
       "      <td>312.73</td>\n",
       "      <td>0.00</td>\n",
       "      <td>0.00</td>\n",
       "      <td>1.025853</td>\n",
       "      <td>A</td>\n",
       "    </tr>\n",
       "    <tr>\n",
       "      <th>12748</th>\n",
       "      <td>367.52</td>\n",
       "      <td>809.80</td>\n",
       "      <td>4.25</td>\n",
       "      <td>4.95</td>\n",
       "      <td>306.84</td>\n",
       "      <td>215.19</td>\n",
       "      <td>0.0</td>\n",
       "      <td>966.40</td>\n",
       "      <td>1416.98</td>\n",
       "      <td>136.2</td>\n",
       "      <td>...</td>\n",
       "      <td>666.94</td>\n",
       "      <td>1374.17</td>\n",
       "      <td>2582.56</td>\n",
       "      <td>1148.78</td>\n",
       "      <td>1407.43</td>\n",
       "      <td>11339.11</td>\n",
       "      <td>2369.79</td>\n",
       "      <td>4113.07</td>\n",
       "      <td>2.669561</td>\n",
       "      <td>A</td>\n",
       "    </tr>\n",
       "    <tr>\n",
       "      <th>12749</th>\n",
       "      <td>0.00</td>\n",
       "      <td>0.00</td>\n",
       "      <td>0.00</td>\n",
       "      <td>0.00</td>\n",
       "      <td>0.00</td>\n",
       "      <td>0.00</td>\n",
       "      <td>0.0</td>\n",
       "      <td>0.00</td>\n",
       "      <td>0.00</td>\n",
       "      <td>0.0</td>\n",
       "      <td>...</td>\n",
       "      <td>1896.13</td>\n",
       "      <td>0.00</td>\n",
       "      <td>763.06</td>\n",
       "      <td>0.00</td>\n",
       "      <td>0.00</td>\n",
       "      <td>572.59</td>\n",
       "      <td>859.10</td>\n",
       "      <td>0.00</td>\n",
       "      <td>1.024574</td>\n",
       "      <td>A</td>\n",
       "    </tr>\n",
       "    <tr>\n",
       "      <th>12820</th>\n",
       "      <td>0.00</td>\n",
       "      <td>0.00</td>\n",
       "      <td>0.00</td>\n",
       "      <td>0.00</td>\n",
       "      <td>0.00</td>\n",
       "      <td>0.00</td>\n",
       "      <td>0.0</td>\n",
       "      <td>0.00</td>\n",
       "      <td>0.00</td>\n",
       "      <td>0.0</td>\n",
       "      <td>...</td>\n",
       "      <td>170.46</td>\n",
       "      <td>0.00</td>\n",
       "      <td>210.35</td>\n",
       "      <td>0.00</td>\n",
       "      <td>0.00</td>\n",
       "      <td>0.00</td>\n",
       "      <td>343.76</td>\n",
       "      <td>217.77</td>\n",
       "      <td>1.001304</td>\n",
       "      <td>B</td>\n",
       "    </tr>\n",
       "    <tr>\n",
       "      <th>12821</th>\n",
       "      <td>0.00</td>\n",
       "      <td>0.00</td>\n",
       "      <td>0.00</td>\n",
       "      <td>0.00</td>\n",
       "      <td>0.00</td>\n",
       "      <td>0.00</td>\n",
       "      <td>0.0</td>\n",
       "      <td>0.00</td>\n",
       "      <td>0.00</td>\n",
       "      <td>0.0</td>\n",
       "      <td>...</td>\n",
       "      <td>0.00</td>\n",
       "      <td>0.00</td>\n",
       "      <td>0.00</td>\n",
       "      <td>0.00</td>\n",
       "      <td>0.00</td>\n",
       "      <td>0.00</td>\n",
       "      <td>0.00</td>\n",
       "      <td>92.72</td>\n",
       "      <td>1.000013</td>\n",
       "      <td>D</td>\n",
       "    </tr>\n",
       "  </tbody>\n",
       "</table>\n",
       "<p>5 rows × 24 columns</p>\n",
       "</div>"
      ],
      "text/plain": [
       "            2010-Aug  2010-Dec  2010-Feb  2010-Jan  2010-Jul  2010-Jun  \\\n",
       "CustomerID                                                               \n",
       "12747           0.00    347.71      0.00      0.00      0.00      0.00   \n",
       "12748         367.52    809.80      4.25      4.95    306.84    215.19   \n",
       "12749           0.00      0.00      0.00      0.00      0.00      0.00   \n",
       "12820           0.00      0.00      0.00      0.00      0.00      0.00   \n",
       "12821           0.00      0.00      0.00      0.00      0.00      0.00   \n",
       "\n",
       "            2010-Mar  2010-May  2010-Oct  2010-Sep  ...  2011-Jan  2011-Jul  \\\n",
       "CustomerID                                          ...                       \n",
       "12747            0.0    358.56      0.00       0.0  ...    613.82    438.50   \n",
       "12748            0.0    966.40   1416.98     136.2  ...    666.94   1374.17   \n",
       "12749            0.0      0.00      0.00       0.0  ...   1896.13      0.00   \n",
       "12820            0.0      0.00      0.00       0.0  ...    170.46      0.00   \n",
       "12821            0.0      0.00      0.00       0.0  ...      0.00      0.00   \n",
       "\n",
       "            2011-Jun  2011-Mar  2011-May  2011-Nov  2011-Oct  2011-Sep  \\\n",
       "CustomerID                                                               \n",
       "12747         376.30      0.00    771.31    312.73      0.00      0.00   \n",
       "12748        2582.56   1148.78   1407.43  11339.11   2369.79   4113.07   \n",
       "12749         763.06      0.00      0.00    572.59    859.10      0.00   \n",
       "12820         210.35      0.00      0.00      0.00    343.76    217.77   \n",
       "12821           0.00      0.00      0.00      0.00      0.00     92.72   \n",
       "\n",
       "            CLTV_calculated  CLTV_calculated_segment  \n",
       "CustomerID                                            \n",
       "12747              1.025853                        A  \n",
       "12748              2.669561                        A  \n",
       "12749              1.024574                        A  \n",
       "12820              1.001304                        B  \n",
       "12821              1.000013                        D  \n",
       "\n",
       "[5 rows x 24 columns]"
      ]
     },
     "execution_count": 44,
     "metadata": {},
     "output_type": "execute_result"
    }
   ],
   "source": [
    "df_final = df.copy()\n",
    "\n",
    "df_final['year_month'] = df_final['Date'].apply(lambda x: x.strftime('%Y-%b')) # Extract month and year from InvoiceDate.\n",
    "\n",
    "\n",
    "sale = df_final.pivot_table(index   = ['CustomerID'], \n",
    "                            columns = ['year_month'], \n",
    "                            values  = 'Revenue', \n",
    "                            aggfunc = 'sum', \n",
    "                            #\n",
    "                            fill_value = 0).reset_index()\n",
    "\n",
    "sale.set_index('CustomerID', inplace = True)\n",
    "\n",
    "sale = sale.join( cltv_df[ ['CLTV_calculated', 'CLTV_calculated_segment'] ] )\n",
    "\n",
    "sale.head()"
   ]
  },
  {
   "cell_type": "markdown",
   "metadata": {},
   "source": [
    "### Prediction of 'CLTV_calculated_segment' - 3 months ahead"
   ]
  },
  {
   "cell_type": "code",
   "execution_count": 45,
   "metadata": {},
   "outputs": [],
   "source": [
    "# Create Training/Testing sets\n",
    "# \n",
    "X = sale[ [ '2011-Jan', '2011-Feb', '2011-Mar', '2011-Apr', '2011-May', '2011-Jun',\n",
    "            '2011-Jul', '2011-Aug', '2011-Sep'\n",
    "          ] ]\n",
    "\n",
    "Y = sale['CLTV_calculated_segment']\n",
    "\n",
    "# Partitioning: Split training set and test set\n",
    "from sklearn.model_selection import train_test_split\n",
    "\n",
    "trainX, testX, trainY, testY = train_test_split(X, Y, test_size = 0.1, random_state = 0)\n"
   ]
  },
  {
   "cell_type": "code",
   "execution_count": 46,
   "metadata": {},
   "outputs": [
    {
     "name": "stdout",
     "output_type": "stream",
     "text": [
      "              precision    recall  f1-score   support\n",
      "\n",
      "           A       0.85      0.85      0.85       111\n",
      "           B       0.59      0.47      0.52        91\n",
      "           C       0.57      0.43      0.49        94\n",
      "           D       0.60      0.88      0.71        96\n",
      "\n",
      "    accuracy                           0.67       392\n",
      "   macro avg       0.65      0.65      0.64       392\n",
      "weighted avg       0.66      0.67      0.65       392\n",
      "\n"
     ]
    },
    {
     "data": {
      "text/plain": [
       "array([[94, 13,  3,  1],\n",
       "       [15, 43, 15, 18],\n",
       "       [ 1, 17, 40, 36],\n",
       "       [ 0,  0, 12, 84]], dtype=int64)"
      ]
     },
     "execution_count": 46,
     "metadata": {},
     "output_type": "execute_result"
    }
   ],
   "source": [
    "# Setup  model\n",
    "#\n",
    "from sklearn.ensemble import RandomForestClassifier\n",
    "\n",
    "model = RandomForestClassifier(n_jobs = -1)\n",
    "\n",
    "\n",
    "# Train model\n",
    "#\n",
    "model.fit( trainX, trainY )\n",
    "\n",
    "\n",
    "# Model evaluation\n",
    "#\n",
    "from sklearn.metrics import classification_report, confusion_matrix\n",
    "\n",
    "print( classification_report(testY, model.predict(testX)) )\n",
    "\n",
    "confusion_matrix(testY, model.predict(testX))\n"
   ]
  },
  {
   "cell_type": "markdown",
   "metadata": {},
   "source": [
    "### Prediction of 'CLTV_calculated' - 3 months ahead"
   ]
  },
  {
   "cell_type": "code",
   "execution_count": 47,
   "metadata": {},
   "outputs": [],
   "source": [
    "# Create Training/Testing sets\n",
    "# \n",
    "X = sale[ [ '2011-Jan', '2011-Feb', '2011-Mar', '2011-Apr', '2011-May', '2011-Jun',\n",
    "            '2011-Jul', '2011-Aug', '2011-Sep'\n",
    "          ] ]\n",
    "\n",
    "Y = sale['CLTV_calculated']\n",
    "\n",
    "# Partitioning: Split training set and test set\n",
    "#\n",
    "trainX, testX, trainY, testY = train_test_split(X, Y, test_size = 0.1, random_state = 0)\n"
   ]
  },
  {
   "cell_type": "code",
   "execution_count": 48,
   "metadata": {},
   "outputs": [
    {
     "name": "stdout",
     "output_type": "stream",
     "text": [
      "R-Square: 0.896\n",
      "MAE:      0.061\n",
      "RMSE:     0.909\n"
     ]
    }
   ],
   "source": [
    "# Setup model\n",
    "#\n",
    "from sklearn.ensemble import RandomForestRegressor\n",
    "\n",
    "model = RandomForestRegressor(n_jobs = -1)\n",
    "\n",
    "\n",
    "# Train model\n",
    "# \n",
    "model.fit( trainX, trainY )\n",
    "\n",
    "# Model evaluation\n",
    "#\n",
    "from sklearn.metrics import *\n",
    "\n",
    "pred = model.predict( testX )\n",
    "\n",
    "print('R-Square: %.3f' % r2_score(testY, pred))\n",
    "print('MAE:      %.3f' % mean_absolute_error(testY, pred))\n",
    "print('RMSE:     %.3f' % np.sqrt(mean_squared_error(testY, pred)))"
   ]
  },
  {
   "cell_type": "markdown",
   "metadata": {},
   "source": [
    "## CLTV Predicted\n",
    "\n",
    "\n",
    "**Cohort model:** Instead of simply assuming all the customers to be one group, we can try to split them into multiple groups and calculate the CLTV for each group.\n",
    "\n",
    "Note: recency value customized. (One of the key differences between RFM and CLTV)\n",
    "\n",
    "<br />\n",
    "\n",
    "**Beta Geometric / Negative Binomial Distribution (BG-NBD)**\n",
    "\n",
    "In short, expected sales value. Used to estimate how many purchases customers can make over a period of time\n",
    "\n",
    "This method computes the probability that a customer with history (frequency, recency_weekly, T_weekly) is currently alive (relationship between recency & frequency).\n",
    "\n",
    "<br />\n",
    "\n",
    "**Gamma Gamma**\n",
    "\n",
    "-conditional expected number of purchases up to time-\n",
    "\n",
    "<br />\n",
    "<br />\n",
    "\n",
    "Notes: \n",
    "1. There should be no correlation between the frequency of transactions and their monetary value.\n",
    "2. We are considering only customers who made repeat purchases with the business i.e., frequency > 0. Because, if the frequency is 0, it means that they are a one-time customer and are considered already dead.\n",
    "\n",
    "<br />\n",
    "\n",
    "---\n",
    "\n",
    "<br />\n",
    "\n",
    "Parameters\n",
    "\n",
    "- **Frequency** represents the number of repeat purchases the customer has made. This means that it’s one less than the total number of purchases. This is actually slightly wrong. It’s the count of time periods the customer had a purchase in. So if using days as units, then it’s the count of days the customer had a purchase on.\n",
    "- **T** represents the age of the customer in whatever time units chosen (weekly, in the above dataset). This is equal to the duration between a customer’s first purchase and the end of the period under study.\n",
    "- **Recency** represents the age of the customer when they made their most recent purchases. This is equal to the duration between a customer’s first purchase and their latest purchase. (Thus if they have made only 1 purchase, the recency is 0.)\n",
    "- **Monetary_avg** represents the average value of a given customer’s purchases. This is equal to the sum of all a customer’s purchases divided by the total number of purchases. Note that the denominator here is different than the frequency described above.\n"
   ]
  },
  {
   "cell_type": "code",
   "execution_count": 49,
   "metadata": {},
   "outputs": [],
   "source": [
    "today_date = dt.date(2012, 12, 11)\n",
    "\n",
    "cltv_df = df.groupby('CustomerID').agg(\n",
    "    {'Date':      [ lambda date: (date.max() - date.min()).days,   # Count of days the customer had a purchase on.\n",
    "                    lambda date: (today_date - date.min()).days ], # Age of the customer \n",
    "     'InvoiceNo':   lambda num: num.nunique() - 1,                 # Νumber of repeat purchases the customer has made\n",
    "     'Revenue':     lambda Revenue: Revenue.sum()})\n",
    "\n",
    "cltv_df.columns = cltv_df.columns.droplevel(0)\n",
    "\n",
    "cltv_df.columns = ['Recency', 'T', 'Frequency', 'Monetary']"
   ]
  },
  {
   "cell_type": "code",
   "execution_count": 50,
   "metadata": {},
   "outputs": [],
   "source": [
    "# Calculate Average Monetary\n",
    "# \n",
    "cltv_df[\"Monetary_avg\"] = cltv_df[\"Monetary\"] / (cltv_df[\"Frequency\"] + 1)\n",
    "cltv_df.drop(['Monetary'], axis = 1, inplace = True) # Not needed any more\n",
    "\n",
    "\n",
    "# Recency filter\n",
    "#\n",
    "cltv_df = cltv_df[(cltv_df['Frequency'] > 0)]\n",
    "\n",
    "\n",
    "# Tenure on weekly scale\n",
    "#\n",
    "cltv_df[\"Recency\"] = cltv_df[\"Recency\"] / 7.0\n",
    "cltv_df[\"T\"]       = cltv_df[\"T\"]       / 7.0 "
   ]
  },
  {
   "cell_type": "markdown",
   "metadata": {},
   "source": [
    "### Basic Frequency/Recency analysis using the BG/NBD model"
   ]
  },
  {
   "cell_type": "code",
   "execution_count": 51,
   "metadata": {},
   "outputs": [
    {
     "name": "stdout",
     "output_type": "stream",
     "text": [
      "[INFO] BG/NBD model trained\n"
     ]
    }
   ],
   "source": [
    "from lifetimes             import BetaGeoFitter\n",
    "\n",
    "# =-=-=-=-=-=-=-=-=-=-=-=-=-=-=-=-=-=-=-=-=-=-=-=-=-=-=-=-=\n",
    "# BG/NBD Model\n",
    "#\n",
    "\n",
    "# Setup model\n",
    "bgf = BetaGeoFitter(penalizer_coef = 1e-4)\n",
    "\n",
    "# Fit model\n",
    "bgf.fit(frequency = cltv_df['Frequency'],\n",
    "        recency   = cltv_df['Recency'],\n",
    "        T         = cltv_df['T'])\n",
    "\n",
    "print('[INFO] BG/NBD model trained')"
   ]
  },
  {
   "cell_type": "code",
   "execution_count": 52,
   "metadata": {},
   "outputs": [],
   "source": [
    "# from lifetimes.utils import calibration_and_holdout_data\n",
    "\n",
    "# summary_cal_holdout = calibration_and_holdout_data(df, 'CustomerID', 'Date',\n",
    "#                                               calibration_period_end = '2011-09-01',\n",
    "#                                               observation_period_end = '2011-12-10',\n",
    "#                                               monetary_value_col     = 'Revenue')"
   ]
  },
  {
   "cell_type": "code",
   "execution_count": 53,
   "metadata": {},
   "outputs": [],
   "source": [
    "# from lifetimes.plotting import plot_calibration_purchases_vs_holdout_purchases\n",
    "\n",
    "# bgf.fit(summary_cal_holdout['frequency_cal'], summary_cal_holdout['recency_cal'], summary_cal_holdout['T_cal'])\n",
    "\n",
    "# plot_calibration_purchases_vs_holdout_purchases(bgf, summary_cal_holdout)"
   ]
  },
  {
   "cell_type": "markdown",
   "metadata": {},
   "source": [
    "### Frequency/Recency matrix\n",
    "\n",
    "Frequency/Recency matrix computes the expected number of transactions a customer is to make in the next time period, given the R(age at last purchase) and F (the number of repeat transactions made)."
   ]
  },
  {
   "cell_type": "code",
   "execution_count": 54,
   "metadata": {},
   "outputs": [
    {
     "data": {
      "image/png": "[encoded data removed]",
      "text/plain": [
       "<Figure size 720x576 with 2 Axes>"
      ]
     },
     "metadata": {
      "needs_background": "light"
     },
     "output_type": "display_data"
    }
   ],
   "source": [
    "from lifetimes.plotting import plot_frequency_recency_matrix\n",
    "\n",
    "plt.figure( figsize = (10, 8) )\n",
    "plot_frequency_recency_matrix( bgf );"
   ]
  },
  {
   "cell_type": "markdown",
   "metadata": {},
   "source": [
    "### Probability that each customer is alive\n",
    "\n",
    "Visualize is the probability that each customer is alive based on their frequency and recency"
   ]
  },
  {
   "cell_type": "code",
   "execution_count": 55,
   "metadata": {},
   "outputs": [
    {
     "data": {
      "image/png": "[encoded data removed]",
      "text/plain": [
       "<Figure size 720x576 with 2 Axes>"
      ]
     },
     "metadata": {
      "needs_background": "light"
     },
     "output_type": "display_data"
    }
   ],
   "source": [
    "from lifetimes.plotting import plot_probability_alive_matrix\n",
    "\n",
    "plt.figure( figsize = (10, 8) )\n",
    "plot_probability_alive_matrix( bgf );"
   ]
  },
  {
   "cell_type": "markdown",
   "metadata": {},
   "source": [
    "**Findings:** \n",
    "\n",
    "- If a customer has bought 200 times from you (Frequency), and their latest purchase was when they were 75 weeks old (Recency), then they are your best customer (bottom-right). \n",
    "\n",
    "- The coldest customers are those that are in the top-right corner: they bought a lot quickly, and we haven’t seen them in weeks.\n",
    "\n",
    "- There’s also that beautiful “tail” around (50, 80). That represents the customer who buys infrequently, but we’ve seen him or her recently, so they might buy again - we’re not sure if they are dead or just between purchases."
   ]
  },
  {
   "cell_type": "markdown",
   "metadata": {},
   "source": [
    "### Assessing model fit"
   ]
  },
  {
   "cell_type": "code",
   "execution_count": 56,
   "metadata": {},
   "outputs": [
    {
     "data": {
      "image/png": "[encoded data removed]",
      "text/plain": [
       "<Figure size 720x432 with 1 Axes>"
      ]
     },
     "metadata": {
      "needs_background": "light"
     },
     "output_type": "display_data"
    }
   ],
   "source": [
    "from lifetimes.plotting import plot_period_transactions\n",
    "\n",
    "plot_period_transactions( bgf, figsize = (10, 6) );"
   ]
  },
  {
   "cell_type": "markdown",
   "metadata": {},
   "source": [
    "#### Top 10 customers expected to make the most purchases in a week\n"
   ]
  },
  {
   "cell_type": "code",
   "execution_count": 57,
   "metadata": {},
   "outputs": [
    {
     "name": "stdout",
     "output_type": "stream",
     "text": [
      "[INFO] Total amount of transactions = 6.10\n"
     ]
    },
    {
     "data": {
      "text/plain": [
       "CustomerID\n",
       "16203    0.010235\n",
       "16150    0.010105\n",
       "14307    0.009884\n",
       "14775    0.009613\n",
       "17802    0.009496\n",
       "15983    0.009438\n",
       "14449    0.009422\n",
       "12868    0.009369\n",
       "15525    0.009138\n",
       "13941    0.008952\n",
       "Name: predicted_purchases_1w, dtype: float64"
      ]
     },
     "execution_count": 57,
     "metadata": {},
     "output_type": "execute_result"
    }
   ],
   "source": [
    "cltv_df['predicted_purchases_1w'] =  bgf.conditional_expected_number_of_purchases_up_to_time(t         = 1, # 4 weeks = 1 month\n",
    "                                                                                             frequency = cltv_df['Frequency'],\n",
    "                                                                                             recency   = cltv_df['Recency'],\n",
    "                                                                                             T         = cltv_df['T'])\n",
    "                                                        \n",
    "print('[INFO] Total amount of transactions = %.2f' % cltv_df['predicted_purchases_1w'].sum())\n",
    "\n",
    "cltv_df['predicted_purchases_1w'].sort_values(ascending = False).head(10)"
   ]
  },
  {
   "cell_type": "markdown",
   "metadata": {},
   "source": [
    "#### Top 10 customers expected to make the most purchases in a month\n"
   ]
  },
  {
   "cell_type": "code",
   "execution_count": 58,
   "metadata": {},
   "outputs": [
    {
     "name": "stdout",
     "output_type": "stream",
     "text": [
      "[INFO] Total amount of transactions = 24.03\n"
     ]
    },
    {
     "data": {
      "text/plain": [
       "CustomerID\n",
       "16203    0.040493\n",
       "16150    0.039946\n",
       "14307    0.039056\n",
       "14775    0.038071\n",
       "17802    0.037609\n",
       "15983    0.037349\n",
       "14449    0.037276\n",
       "12868    0.037019\n",
       "15525    0.036201\n",
       "13941    0.035385\n",
       "Name: predicted_purchases_1M, dtype: float64"
      ]
     },
     "execution_count": 58,
     "metadata": {},
     "output_type": "execute_result"
    }
   ],
   "source": [
    "cltv_df['predicted_purchases_1M'] =  bgf.conditional_expected_number_of_purchases_up_to_time(t         = 4, # 4 weeks = 1 month\n",
    "                                                                                             frequency = cltv_df['Frequency'],\n",
    "                                                                                             recency   = cltv_df['Recency'],\n",
    "                                                                                             T         = cltv_df['T'])\n",
    "                                                        \n",
    "print('[INFO] Total amount of transactions = %.2f' % cltv_df['predicted_purchases_1M'].sum())\n",
    "\n",
    "cltv_df['predicted_purchases_1M'].sort_values(ascending = False).head(10)"
   ]
  },
  {
   "cell_type": "markdown",
   "metadata": {},
   "source": [
    "#### Top 10 customers expected to make the most purchases in next 6 months & total amount of transactions"
   ]
  },
  {
   "cell_type": "code",
   "execution_count": 59,
   "metadata": {},
   "outputs": [
    {
     "name": "stdout",
     "output_type": "stream",
     "text": [
      "[INFO] Total amount of transactions = 131.40\n"
     ]
    },
    {
     "data": {
      "text/plain": [
       "CustomerID\n",
       "16203    0.226493\n",
       "16150    0.222232\n",
       "14307    0.216731\n",
       "14775    0.214315\n",
       "17802    0.211717\n",
       "15983    0.209283\n",
       "14449    0.208499\n",
       "12868    0.205425\n",
       "15525    0.204120\n",
       "13941    0.196856\n",
       "Name: predicted_purchases_6M, dtype: float64"
      ]
     },
     "execution_count": 59,
     "metadata": {},
     "output_type": "execute_result"
    }
   ],
   "source": [
    "cltv_df['predicted_purchases_6M'] =  bgf.conditional_expected_number_of_purchases_up_to_time(t         = 4*6, # 4*6 weeks = 6 months\n",
    "                                                                                             frequency = cltv_df['Frequency'],\n",
    "                                                                                             recency   = cltv_df['Recency'],\n",
    "                                                                                             T         = cltv_df['T'])\n",
    "\n",
    "                                                        \n",
    "print('[INFO] Total amount of transactions = %.2f' % cltv_df['predicted_purchases_6M'].sum())\n",
    "\n",
    "cltv_df['predicted_purchases_6M'].sort_values(ascending = False).head(10)\n",
    "\n",
    "\n"
   ]
  },
  {
   "cell_type": "markdown",
   "metadata": {},
   "source": [
    "### Gamma Gamma model"
   ]
  },
  {
   "cell_type": "markdown",
   "metadata": {},
   "source": [
    "#### Gamma-Gamma model and the independence assumption\n",
    "\n",
    "- This submodel assumes that there is no relationship between the monetary value and the purchase frequency. In practice we need to check whether the Pearson correlation between the two vectors is close to 0 in order to use this model."
   ]
  },
  {
   "cell_type": "code",
   "execution_count": 60,
   "metadata": {},
   "outputs": [
    {
     "name": "stdout",
     "output_type": "stream",
     "text": [
      "[INFO] Correlation between Frequency & Monetary_avg is 0.0191\n"
     ]
    }
   ],
   "source": [
    "Correlation = cltv_df[['Frequency', 'Monetary_avg']].corr().iloc[0,1]\n",
    "\n",
    "\n",
    "if (Correlation > 0.1):\n",
    "    print('[WARNING] Correlation between Frequency & Monetary_avg is over 0.1')\n",
    "else:\n",
    "    print('[INFO] Correlation between Frequency & Monetary_avg is %.4f' % Correlation)\n"
   ]
  },
  {
   "cell_type": "code",
   "execution_count": 61,
   "metadata": {},
   "outputs": [
    {
     "data": {
      "text/plain": [
       "<lifetimes.GammaGammaFitter: fitted with 2570 subjects, p: 1.00, q: 0.18, v: 0.94>"
      ]
     },
     "execution_count": 61,
     "metadata": {},
     "output_type": "execute_result"
    }
   ],
   "source": [
    "from lifetimes             import GammaGammaFitter\n",
    "\n",
    "# =-=-=-=-=-=-=-=-=-=-=-=-=-=-=-=-=-=-=-=-=-=-=-=-=-=-=-=-=\n",
    "# Gamma Gamma model\n",
    "#\n",
    "\n",
    "# Setup model\n",
    "ggf = GammaGammaFitter(penalizer_coef = 0.1)\n",
    "\n",
    "# Fit model\n",
    "ggf.fit(frequency      = cltv_df['Frequency'] + 1, \n",
    "        monetary_value = cltv_df['Monetary_avg'])"
   ]
  },
  {
   "cell_type": "markdown",
   "metadata": {},
   "source": [
    "#### The top 10 customers expected to be most valuable"
   ]
  },
  {
   "cell_type": "code",
   "execution_count": 62,
   "metadata": {},
   "outputs": [
    {
     "name": "stdout",
     "output_type": "stream",
     "text": [
      "[INFO] Expected conditional average profit: 1050.296511876646, Average profit: 397.18367345554583\n"
     ]
    },
    {
     "data": {
      "text/plain": [
       "CustomerID\n",
       "16446    469416.419528\n",
       "15749     25173.131526\n",
       "15098     22562.990324\n",
       "16984     12491.517319\n",
       "18087     11305.593895\n",
       "16240     10366.841175\n",
       "16253     10269.488629\n",
       "13952      9063.618242\n",
       "13868      8900.534615\n",
       "17672      8860.495803\n",
       "Name: Conditional_expected_average_profit, dtype: float64"
      ]
     },
     "execution_count": 62,
     "metadata": {},
     "output_type": "execute_result"
    }
   ],
   "source": [
    "cltv_df['Conditional_expected_average_profit'] = ggf.conditional_expected_average_profit(frequency      = cltv_df['Frequency'],\n",
    "                                                                                         monetary_value = cltv_df['Monetary_avg'])\n",
    "\n",
    "print('[INFO] Expected conditional average profit: %s, Average profit: %s' % (cltv_df['Conditional_expected_average_profit'].mean(), cltv_df[cltv_df['Frequency']>0]['Monetary_avg'].mean()))\n",
    "\n",
    "\n",
    "cltv_df['Conditional_expected_average_profit'].sort_values(ascending = False).head(10)\n"
   ]
  },
  {
   "cell_type": "markdown",
   "metadata": {},
   "source": [
    "### Prediction of CLTV using BG/NBD and Gamma Gamma models"
   ]
  },
  {
   "cell_type": "code",
   "execution_count": 63,
   "metadata": {},
   "outputs": [
    {
     "data": {
      "text/html": [
       "<div>\n",
       "<style scoped>\n",
       "    .dataframe tbody tr th:only-of-type {\n",
       "        vertical-align: middle;\n",
       "    }\n",
       "\n",
       "    .dataframe tbody tr th {\n",
       "        vertical-align: top;\n",
       "    }\n",
       "\n",
       "    .dataframe thead th {\n",
       "        text-align: right;\n",
       "    }\n",
       "</style>\n",
       "<table border=\"1\" class=\"dataframe\">\n",
       "  <thead>\n",
       "    <tr style=\"text-align: right;\">\n",
       "      <th></th>\n",
       "      <th>Recency</th>\n",
       "      <th>T</th>\n",
       "      <th>Frequency</th>\n",
       "      <th>Monetary_avg</th>\n",
       "      <th>predicted_purchases_1w</th>\n",
       "      <th>predicted_purchases_1M</th>\n",
       "      <th>predicted_purchases_6M</th>\n",
       "      <th>Conditional_expected_average_profit</th>\n",
       "    </tr>\n",
       "    <tr>\n",
       "      <th>CustomerID</th>\n",
       "      <th></th>\n",
       "      <th></th>\n",
       "      <th></th>\n",
       "      <th></th>\n",
       "      <th></th>\n",
       "      <th></th>\n",
       "      <th></th>\n",
       "      <th></th>\n",
       "    </tr>\n",
       "  </thead>\n",
       "  <tbody>\n",
       "    <tr>\n",
       "      <th>12747</th>\n",
       "      <td>79.142857</td>\n",
       "      <td>134.857143</td>\n",
       "      <td>10</td>\n",
       "      <td>381.455455</td>\n",
       "      <td>1.856695e-03</td>\n",
       "      <td>7.306187e-03</td>\n",
       "      <td>3.954013e-02</td>\n",
       "      <td>415.655942</td>\n",
       "    </tr>\n",
       "    <tr>\n",
       "      <th>12748</th>\n",
       "      <td>98.857143</td>\n",
       "      <td>152.000000</td>\n",
       "      <td>208</td>\n",
       "      <td>161.338421</td>\n",
       "      <td>4.487966e-34</td>\n",
       "      <td>1.758276e-33</td>\n",
       "      <td>9.268942e-33</td>\n",
       "      <td>161.981945</td>\n",
       "    </tr>\n",
       "    <tr>\n",
       "      <th>12749</th>\n",
       "      <td>44.714286</td>\n",
       "      <td>100.428571</td>\n",
       "      <td>4</td>\n",
       "      <td>818.176000</td>\n",
       "      <td>3.614185e-03</td>\n",
       "      <td>1.421735e-02</td>\n",
       "      <td>7.682568e-02</td>\n",
       "      <td>1029.625202</td>\n",
       "    </tr>\n",
       "    <tr>\n",
       "      <th>12820</th>\n",
       "      <td>40.285714</td>\n",
       "      <td>99.142857</td>\n",
       "      <td>3</td>\n",
       "      <td>235.585000</td>\n",
       "      <td>3.749952e-03</td>\n",
       "      <td>1.476680e-02</td>\n",
       "      <td>8.030125e-02</td>\n",
       "      <td>324.711954</td>\n",
       "    </tr>\n",
       "  </tbody>\n",
       "</table>\n",
       "</div>"
      ],
      "text/plain": [
       "              Recency           T  Frequency  Monetary_avg  \\\n",
       "CustomerID                                                   \n",
       "12747       79.142857  134.857143         10    381.455455   \n",
       "12748       98.857143  152.000000        208    161.338421   \n",
       "12749       44.714286  100.428571          4    818.176000   \n",
       "12820       40.285714   99.142857          3    235.585000   \n",
       "\n",
       "            predicted_purchases_1w  predicted_purchases_1M  \\\n",
       "CustomerID                                                   \n",
       "12747                 1.856695e-03            7.306187e-03   \n",
       "12748                 4.487966e-34            1.758276e-33   \n",
       "12749                 3.614185e-03            1.421735e-02   \n",
       "12820                 3.749952e-03            1.476680e-02   \n",
       "\n",
       "            predicted_purchases_6M  Conditional_expected_average_profit  \n",
       "CustomerID                                                               \n",
       "12747                 3.954013e-02                           415.655942  \n",
       "12748                 9.268942e-33                           161.981945  \n",
       "12749                 7.682568e-02                          1029.625202  \n",
       "12820                 8.030125e-02                           324.711954  "
      ]
     },
     "execution_count": 63,
     "metadata": {},
     "output_type": "execute_result"
    }
   ],
   "source": [
    "cltv_df.head(4)"
   ]
  },
  {
   "cell_type": "code",
   "execution_count": 64,
   "metadata": {},
   "outputs": [],
   "source": [
    "discount_rate = 0.01\n",
    "\n",
    "\n",
    "# =-=-=-=-=-=-=-=-=-=-=-=-=-=-=-=-=-=-=-=-=-= 1 MONTH =-=-=-=-=-=-=-=-=-=-=-=-=-=-=-=-=-=-=-=-=-=\n",
    "clv_df = ggf.customer_lifetime_value(bgf,\n",
    "                                     cltv_df['Frequency'],\n",
    "                                     cltv_df['Recency'],\n",
    "                                     cltv_df['T'],\n",
    "                                     cltv_df['Monetary_avg'],\n",
    "                                     time          = 1, # months\n",
    "                                     freq          = \"W\",\n",
    "                                     discount_rate = discount_rate)\n",
    "\n",
    "# Reset index\n",
    "clv_df = clv_df.reset_index()\n",
    "\n",
    "# Rename column\n",
    "clv_df.rename(columns = {'clv': '1M_clv'}, inplace = True)\n",
    "\n",
    "\n",
    "\n",
    "# =-=-=-=-=-=-=-=-=-=-=-=-=-=-=-=-=-=-=-=-=-= 6 MONTHS =-=-=-=-=-=-=-=-=-=-=-=-=-=-=-=-=-=-=-=-=-=\n",
    "clv_df['6M_clv'] = ggf.customer_lifetime_value(bgf,\n",
    "                                               cltv_df['Frequency'],\n",
    "                                               cltv_df['Recency'],\n",
    "                                               cltv_df['T'],\n",
    "                                               cltv_df['Monetary_avg'],\n",
    "                                               time          = 6, # months\n",
    "                                               freq          = \"W\",\n",
    "                                               discount_rate = discount_rate).values\n",
    "\n",
    "\n",
    "\n",
    "# =-=-=-=-=-=-=-=-=-=-=-=-=-=-=-=-=-=-=-=-=-= 6 MONTHs =-=-=-=-=-=-=-=-=-=-=-=-=-=-=-=-=-=-=-=-=-=\n",
    "clv_df['12M_clv'] = ggf.customer_lifetime_value(bgf,\n",
    "                                                cltv_df['Frequency'],\n",
    "                                                cltv_df['Recency'],\n",
    "                                                cltv_df['T'],\n",
    "                                                cltv_df['Monetary_avg'],\n",
    "                                                time          = 12, # months\n",
    "                                                freq          = \"W\",\n",
    "                                                discount_rate = discount_rate).values\n"
   ]
  },
  {
   "cell_type": "code",
   "execution_count": 65,
   "metadata": {},
   "outputs": [],
   "source": [
    "# Setup scaler\n",
    "# \n",
    "scaler = MinMaxScaler()\n",
    "\n",
    "clv_df[ ['1M_clv_scaled', '6M_clv_scaled', '12M_clv_scaled']] = scaler.fit_transform( clv_df[ ['1M_clv', '6M_clv', '12M_clv']])"
   ]
  },
  {
   "cell_type": "code",
   "execution_count": 66,
   "metadata": {},
   "outputs": [
    {
     "data": {
      "text/html": [
       "<div>\n",
       "<style scoped>\n",
       "    .dataframe tbody tr th:only-of-type {\n",
       "        vertical-align: middle;\n",
       "    }\n",
       "\n",
       "    .dataframe tbody tr th {\n",
       "        vertical-align: top;\n",
       "    }\n",
       "\n",
       "    .dataframe thead th {\n",
       "        text-align: right;\n",
       "    }\n",
       "</style>\n",
       "<table border=\"1\" class=\"dataframe\">\n",
       "  <thead>\n",
       "    <tr style=\"text-align: right;\">\n",
       "      <th></th>\n",
       "      <th>CustomerID</th>\n",
       "      <th>1M_clv</th>\n",
       "      <th>6M_clv</th>\n",
       "      <th>12M_clv</th>\n",
       "      <th>1M_clv_scaled</th>\n",
       "      <th>6M_clv_scaled</th>\n",
       "      <th>12M_clv_scaled</th>\n",
       "    </tr>\n",
       "  </thead>\n",
       "  <tbody>\n",
       "    <tr>\n",
       "      <th>0</th>\n",
       "      <td>12747</td>\n",
       "      <td>3.260037e+00</td>\n",
       "      <td>1.709262e+01</td>\n",
       "      <td>2.955134e+01</td>\n",
       "      <td>6.123900e-04</td>\n",
       "      <td>6.050474e-04</td>\n",
       "      <td>5.969480e-04</td>\n",
       "    </tr>\n",
       "    <tr>\n",
       "      <th>1</th>\n",
       "      <td>12748</td>\n",
       "      <td>3.055872e-31</td>\n",
       "      <td>1.558184e-30</td>\n",
       "      <td>2.623901e-30</td>\n",
       "      <td>7.538996e-36</td>\n",
       "      <td>6.518326e-36</td>\n",
       "      <td>5.610426e-36</td>\n",
       "    </tr>\n",
       "    <tr>\n",
       "      <th>2</th>\n",
       "      <td>12749</td>\n",
       "      <td>1.571376e+01</td>\n",
       "      <td>8.225921e+01</td>\n",
       "      <td>1.421197e+02</td>\n",
       "      <td>2.951792e-03</td>\n",
       "      <td>2.911825e-03</td>\n",
       "      <td>2.870870e-03</td>\n",
       "    </tr>\n",
       "    <tr>\n",
       "      <th>3</th>\n",
       "      <td>12820</td>\n",
       "      <td>5.147759e+00</td>\n",
       "      <td>2.712969e+01</td>\n",
       "      <td>4.718312e+01</td>\n",
       "      <td>9.669939e-04</td>\n",
       "      <td>9.603412e-04</td>\n",
       "      <td>9.531163e-04</td>\n",
       "    </tr>\n",
       "    <tr>\n",
       "      <th>4</th>\n",
       "      <td>12822</td>\n",
       "      <td>1.060851e+01</td>\n",
       "      <td>5.522433e+01</td>\n",
       "      <td>9.508090e+01</td>\n",
       "      <td>1.992783e-03</td>\n",
       "      <td>1.954840e-03</td>\n",
       "      <td>1.920669e-03</td>\n",
       "    </tr>\n",
       "  </tbody>\n",
       "</table>\n",
       "</div>"
      ],
      "text/plain": [
       "   CustomerID        1M_clv        6M_clv       12M_clv  1M_clv_scaled  \\\n",
       "0       12747  3.260037e+00  1.709262e+01  2.955134e+01   6.123900e-04   \n",
       "1       12748  3.055872e-31  1.558184e-30  2.623901e-30   7.538996e-36   \n",
       "2       12749  1.571376e+01  8.225921e+01  1.421197e+02   2.951792e-03   \n",
       "3       12820  5.147759e+00  2.712969e+01  4.718312e+01   9.669939e-04   \n",
       "4       12822  1.060851e+01  5.522433e+01  9.508090e+01   1.992783e-03   \n",
       "\n",
       "   6M_clv_scaled  12M_clv_scaled  \n",
       "0   6.050474e-04    5.969480e-04  \n",
       "1   6.518326e-36    5.610426e-36  \n",
       "2   2.911825e-03    2.870870e-03  \n",
       "3   9.603412e-04    9.531163e-04  \n",
       "4   1.954840e-03    1.920669e-03  "
      ]
     },
     "execution_count": 66,
     "metadata": {},
     "output_type": "execute_result"
    }
   ],
   "source": [
    "clv_df.head( 5 )"
   ]
  },
  {
   "cell_type": "markdown",
   "metadata": {},
   "source": [
    "**CLTV Segmentation**\n",
    "\n",
    "Since we try to create better segmentation and marketing strategies based on RFM and CLTV we will also create segments based on our CLTV. ‘A’ for our best customers and ‘D’ for the worst."
   ]
  },
  {
   "cell_type": "code",
   "execution_count": 67,
   "metadata": {},
   "outputs": [
    {
     "data": {
      "text/html": [
       "<div>\n",
       "<style scoped>\n",
       "    .dataframe tbody tr th:only-of-type {\n",
       "        vertical-align: middle;\n",
       "    }\n",
       "\n",
       "    .dataframe tbody tr th {\n",
       "        vertical-align: top;\n",
       "    }\n",
       "\n",
       "    .dataframe thead th {\n",
       "        text-align: right;\n",
       "    }\n",
       "</style>\n",
       "<table border=\"1\" class=\"dataframe\">\n",
       "  <thead>\n",
       "    <tr style=\"text-align: right;\">\n",
       "      <th></th>\n",
       "      <th>CustomerID</th>\n",
       "      <th>1M_clv</th>\n",
       "      <th>6M_clv</th>\n",
       "      <th>12M_clv</th>\n",
       "      <th>1M_clv_scaled</th>\n",
       "      <th>6M_clv_scaled</th>\n",
       "      <th>12M_clv_scaled</th>\n",
       "      <th>cltv_segment</th>\n",
       "      <th>Segment</th>\n",
       "    </tr>\n",
       "  </thead>\n",
       "  <tbody>\n",
       "    <tr>\n",
       "      <th>0</th>\n",
       "      <td>12747</td>\n",
       "      <td>3.260037e+00</td>\n",
       "      <td>1.709262e+01</td>\n",
       "      <td>2.955134e+01</td>\n",
       "      <td>6.123900e-04</td>\n",
       "      <td>6.050474e-04</td>\n",
       "      <td>5.969480e-04</td>\n",
       "      <td>C</td>\n",
       "      <td>loyal_customers</td>\n",
       "    </tr>\n",
       "    <tr>\n",
       "      <th>1</th>\n",
       "      <td>12748</td>\n",
       "      <td>3.055872e-31</td>\n",
       "      <td>1.558184e-30</td>\n",
       "      <td>2.623901e-30</td>\n",
       "      <td>7.538996e-36</td>\n",
       "      <td>6.518326e-36</td>\n",
       "      <td>5.610426e-36</td>\n",
       "      <td>D</td>\n",
       "      <td>champions</td>\n",
       "    </tr>\n",
       "    <tr>\n",
       "      <th>2</th>\n",
       "      <td>12749</td>\n",
       "      <td>1.571376e+01</td>\n",
       "      <td>8.225921e+01</td>\n",
       "      <td>1.421197e+02</td>\n",
       "      <td>2.951792e-03</td>\n",
       "      <td>2.911825e-03</td>\n",
       "      <td>2.870870e-03</td>\n",
       "      <td>A</td>\n",
       "      <td>loyal_customers</td>\n",
       "    </tr>\n",
       "    <tr>\n",
       "      <th>3</th>\n",
       "      <td>12820</td>\n",
       "      <td>5.147759e+00</td>\n",
       "      <td>2.712969e+01</td>\n",
       "      <td>4.718312e+01</td>\n",
       "      <td>9.669939e-04</td>\n",
       "      <td>9.603412e-04</td>\n",
       "      <td>9.531163e-04</td>\n",
       "      <td>B</td>\n",
       "      <td>loyal_customers</td>\n",
       "    </tr>\n",
       "    <tr>\n",
       "      <th>4</th>\n",
       "      <td>12822</td>\n",
       "      <td>1.060851e+01</td>\n",
       "      <td>5.522433e+01</td>\n",
       "      <td>9.508090e+01</td>\n",
       "      <td>1.992783e-03</td>\n",
       "      <td>1.954840e-03</td>\n",
       "      <td>1.920669e-03</td>\n",
       "      <td>B</td>\n",
       "      <td>about_to_sleep</td>\n",
       "    </tr>\n",
       "  </tbody>\n",
       "</table>\n",
       "</div>"
      ],
      "text/plain": [
       "   CustomerID        1M_clv        6M_clv       12M_clv  1M_clv_scaled  \\\n",
       "0       12747  3.260037e+00  1.709262e+01  2.955134e+01   6.123900e-04   \n",
       "1       12748  3.055872e-31  1.558184e-30  2.623901e-30   7.538996e-36   \n",
       "2       12749  1.571376e+01  8.225921e+01  1.421197e+02   2.951792e-03   \n",
       "3       12820  5.147759e+00  2.712969e+01  4.718312e+01   9.669939e-04   \n",
       "4       12822  1.060851e+01  5.522433e+01  9.508090e+01   1.992783e-03   \n",
       "\n",
       "   6M_clv_scaled  12M_clv_scaled cltv_segment          Segment  \n",
       "0   6.050474e-04    5.969480e-04            C  loyal_customers  \n",
       "1   6.518326e-36    5.610426e-36            D        champions  \n",
       "2   2.911825e-03    2.870870e-03            A  loyal_customers  \n",
       "3   9.603412e-04    9.531163e-04            B  loyal_customers  \n",
       "4   1.954840e-03    1.920669e-03            B   about_to_sleep  "
      ]
     },
     "execution_count": 67,
     "metadata": {},
     "output_type": "execute_result"
    }
   ],
   "source": [
    "# Add clv segment\n",
    "# \n",
    "clv_df[\"cltv_segment\"] = pd.qcut(clv_df[\"12M_clv_scaled\"], 4, labels=[\"D\", \"C\", \"B\", \"A\"])\n",
    "\n",
    "\n",
    "# Add RFM segment\n",
    "#\n",
    "clv_df = clv_df.merge(RFM.reset_index()[['CustomerID', 'Segment']], on = 'CustomerID') # Merging RFM\n",
    "\n",
    "# Visualize DataFrame\n",
    "#\n",
    "clv_df.head( 5 )\n"
   ]
  },
  {
   "cell_type": "code",
   "execution_count": 68,
   "metadata": {},
   "outputs": [
    {
     "data": {
      "image/png": "[encoded data removed]",
      "text/plain": [
       "<Figure size 2160x432 with 1 Axes>"
      ]
     },
     "metadata": {
      "needs_background": "light"
     },
     "output_type": "display_data"
    }
   ],
   "source": [
    "plt.figure( figsize = (30, 6) )\n",
    "#\n",
    "#\n",
    "sns.histplot(data = clv_df, x = 'Segment', hue = 'cltv_segment', multiple=\"dodge\")\n",
    "#\n",
    "plt.xticks( size = 12 );\n",
    "plt.yticks( size = 12 );\n",
    "#\n",
    "plt.xlabel('Cluster', size = 14);\n",
    "plt.ylabel('Count',   size = 14);\n",
    "\n",
    "# final.groupby(['cltv_segment', 'Segment']).count()[ ['CustomerID'] ]\n"
   ]
  },
  {
   "cell_type": "code",
   "execution_count": 69,
   "metadata": {},
   "outputs": [],
   "source": [
    "# clv_df.groupby(['Segment_x', 'cltv_segment']).count()[ ['CustomerID'] ]"
   ]
  },
  {
   "cell_type": "code",
   "execution_count": null,
   "metadata": {},
   "outputs": [],
   "source": []
  }
 ],
 "metadata": {
  "kernelspec": {
   "display_name": "Python 3.7.10 ('tensorflow')",
   "language": "python",
   "name": "python3"
  },
  "language_info": {
   "codemirror_mode": {
    "name": "ipython",
    "version": 3
   },
   "file_extension": ".py",
   "mimetype": "text/x-python",
   "name": "python",
   "nbconvert_exporter": "python",
   "pygments_lexer": "ipython3",
   "version": "3.7.10"
  },
  "vscode": {
   "interpreter": {
    "hash": "f8692f46610980770f61291bec1cab73f5a660600a4995e682050817c9e58235"
   }
  }
 },
 "nbformat": 4,
 "nbformat_minor": 2
}
