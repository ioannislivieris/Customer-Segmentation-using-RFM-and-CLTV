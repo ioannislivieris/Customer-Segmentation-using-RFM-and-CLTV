{
 "cells": [
  {
   "cell_type": "markdown",
   "metadata": {},
   "source": [
    "**Rule generation** is a common task in the mining of frequent patterns. An association rule is an implication expression of the form $X\\to Y$ where $X$ and $Y$ are *disjoint itemsets* (Tan et al. 2014). A more concrete example based on consumer behaviour would be $\\{Diapers\\}\\to\\{Beer\\}$ suggesting that people who buy diapers are also likely to buy beer. To evaluate the \"interest\" of such an association rule, different metrics have been developed. The current implementation make use of the confidence and lift metrics. \n",
    "\n",
    "<img src=\"images/Association_Rule_Learning.png\" alt=\"drawing\" width=\"500\"/>\n",
    "\n",
    "Main Associaton Rules:\n",
    "\n",
    "- *Support:* It calculates how often the product is purchased and is given by the formula:\n",
    "\n",
    "- *Confidence:* It measures how often items in $Y$ appear in transactions that contain $X$ and is given by the formula.\n",
    "\n",
    "- *Lift:* It is the value that tells us how likely item $Y$ is bought together with item $X$. Values greater than one indicate that the items are likely to be purchased together. It tells us how much better a rule is at predicting the result than just assuming the result in the first place. When lift > 1 then the rule is better at predicting the result than guessing. When lift < 1, the rule is doing worse than informed guessing.\n",
    "\n",
    "<br />\n",
    "\n",
    "*For example*: We have 10 different product and check invoices to recommend product. If there are 8 invoices from customers and includes 4 pieces of milk, the result of support is Support(Milk) = 4/8 = 0.5. In other words, there is one milk in every two carts on average.\n",
    "\n",
    "More information can be found in https://rasbt.github.io/mlxtend/user_guide/frequent_patterns/association_rules/\n",
    "\n",
    "\n",
    "**References**\n",
    "- Tan, Steinbach, Kumar. Introduction to Data Mining. Pearson New International Edition. Harlow: Pearson Education Ltd., 2014. (pp. 327-414).\n",
    "\n",
    "\n",
    "# Import libraries"
   ]
  },
  {
   "cell_type": "code",
   "execution_count": 1,
   "metadata": {},
   "outputs": [],
   "source": [
    "import warnings\n",
    "warnings.filterwarnings(\"ignore\")"
   ]
  },
  {
   "cell_type": "code",
   "execution_count": 2,
   "metadata": {},
   "outputs": [],
   "source": [
    "# =-=-=-=-=-=-=-=-=-=-=-=-=-=-=-=-=-=-=-=-=-=-=-=-=-=-=-=-=-\n",
    "# # Basic libraries\n",
    "# \n",
    "import pandas   as pd\n",
    "import numpy    as np\n",
    "import datetime as dt\n",
    "\n",
    "# =-=-=-=-=-=-=-=-=-=-=-=-=-=-=-=-=-=-=-=-=-=-=-=-=-=-=-=-=-\n",
    "# Visualization libraries\n",
    "#\n",
    "import matplotlib.pyplot as plt\n",
    "import seaborn           as sns\n",
    "\n",
    "\n",
    "# =-=-=-=-=-=-=-=-=-=-=-=-=-=-=-=-=-=-=-=-=-=-=-=-=-=-=-=-=-\n",
    "# mlxtend library\n",
    "from mlxtend.frequent_patterns import apriori\n",
    "from mlxtend.frequent_patterns import association_rules"
   ]
  },
  {
   "cell_type": "markdown",
   "metadata": {},
   "source": [
    "# Import data"
   ]
  },
  {
   "cell_type": "code",
   "execution_count": 3,
   "metadata": {},
   "outputs": [
    {
     "name": "stderr",
     "output_type": "stream",
     "text": [
      "c:\\Users\\poseidon\\anaconda\\envs\\tensorflow\\lib\\site-packages\\ipykernel\\ipkernel.py:283: DeprecationWarning: `should_run_async` will not call `transform_cell` automatically in the future. Please pass the result to `transformed_cell` argument and any exception that happen during thetransform in `preprocessing_exc_tuple` in IPython 7.17 and above.\n",
      "  and should_run_async(code)\n"
     ]
    },
    {
     "name": "stdout",
     "output_type": "stream",
     "text": [
      "[INFO] Number of instances:  541909\n",
      "[INFO] Number of features:   8\n"
     ]
    },
    {
     "data": {
      "text/html": [
       "<div>\n",
       "<style scoped>\n",
       "    .dataframe tbody tr th:only-of-type {\n",
       "        vertical-align: middle;\n",
       "    }\n",
       "\n",
       "    .dataframe tbody tr th {\n",
       "        vertical-align: top;\n",
       "    }\n",
       "\n",
       "    .dataframe thead th {\n",
       "        text-align: right;\n",
       "    }\n",
       "</style>\n",
       "<table border=\"1\" class=\"dataframe\">\n",
       "  <thead>\n",
       "    <tr style=\"text-align: right;\">\n",
       "      <th></th>\n",
       "      <th>InvoiceNo</th>\n",
       "      <th>StockCode</th>\n",
       "      <th>Description</th>\n",
       "      <th>Quantity</th>\n",
       "      <th>InvoiceDate</th>\n",
       "      <th>UnitPrice</th>\n",
       "      <th>CustomerID</th>\n",
       "      <th>Country</th>\n",
       "    </tr>\n",
       "  </thead>\n",
       "  <tbody>\n",
       "    <tr>\n",
       "      <th>0</th>\n",
       "      <td>536365</td>\n",
       "      <td>85123A</td>\n",
       "      <td>WHITE HANGING HEART T-LIGHT HOLDER</td>\n",
       "      <td>6</td>\n",
       "      <td>1/12/10 8:26</td>\n",
       "      <td>2.55</td>\n",
       "      <td>17850.0</td>\n",
       "      <td>United Kingdom</td>\n",
       "    </tr>\n",
       "    <tr>\n",
       "      <th>1</th>\n",
       "      <td>536365</td>\n",
       "      <td>71053</td>\n",
       "      <td>WHITE METAL LANTERN</td>\n",
       "      <td>6</td>\n",
       "      <td>1/12/10 8:26</td>\n",
       "      <td>3.39</td>\n",
       "      <td>17850.0</td>\n",
       "      <td>United Kingdom</td>\n",
       "    </tr>\n",
       "    <tr>\n",
       "      <th>2</th>\n",
       "      <td>536365</td>\n",
       "      <td>84406B</td>\n",
       "      <td>CREAM CUPID HEARTS COAT HANGER</td>\n",
       "      <td>8</td>\n",
       "      <td>1/12/10 8:26</td>\n",
       "      <td>2.75</td>\n",
       "      <td>17850.0</td>\n",
       "      <td>United Kingdom</td>\n",
       "    </tr>\n",
       "  </tbody>\n",
       "</table>\n",
       "</div>"
      ],
      "text/plain": [
       "  InvoiceNo StockCode                         Description  Quantity  \\\n",
       "0    536365    85123A  WHITE HANGING HEART T-LIGHT HOLDER         6   \n",
       "1    536365     71053                 WHITE METAL LANTERN         6   \n",
       "2    536365    84406B      CREAM CUPID HEARTS COAT HANGER         8   \n",
       "\n",
       "    InvoiceDate  UnitPrice  CustomerID         Country  \n",
       "0  1/12/10 8:26       2.55     17850.0  United Kingdom  \n",
       "1  1/12/10 8:26       3.39     17850.0  United Kingdom  \n",
       "2  1/12/10 8:26       2.75     17850.0  United Kingdom  "
      ]
     },
     "execution_count": 3,
     "metadata": {},
     "output_type": "execute_result"
    }
   ],
   "source": [
    "# Load Dataset\n",
    "#\n",
    "df = pd.read_csv('Data/OnlineRetail.csv', encoding=\"ISO-8859-1\")\n",
    "\n",
    "print('[INFO] Number of instances: ', df.shape[0])\n",
    "print('[INFO] Number of features:  ', df.shape[1])\n",
    "\n",
    "# Visualize DataFrame\n",
    "#\n",
    "df.head( 3 )"
   ]
  },
  {
   "cell_type": "markdown",
   "metadata": {},
   "source": [
    "## Data Pre-processing\n",
    "\n",
    "**Observations/Findings:**\n",
    "\n",
    "- The min and max value for Quantity is 80995, this could represent cancelled or returned orders.\n",
    "- The UnitPrice also have few negative values which is uncommon,these transactions could represent cancelled orders by customers or bad-debt incurred by the business.\n",
    "- Bad debt adjustments will be dropped from the dataset as these do not represent actual sales. \n",
    "\n",
    "We need to clean the above values by removing from the dataset\n",
    "\n",
    "\n",
    "- There are almost 25% missing CustomerID. We need to remove them as there is no way we can get the number of CustomerID\n",
    "- As customer clusters may vary by geography, we will restrict the data to only Germany customers - Notice that United Kingdom contains 90% of the customers. If this analysis is applied for these customers then \"memory errors\" occurs"
   ]
  },
  {
   "cell_type": "code",
   "execution_count": 4,
   "metadata": {},
   "outputs": [
    {
     "name": "stderr",
     "output_type": "stream",
     "text": [
      "c:\\Users\\poseidon\\anaconda\\envs\\tensorflow\\lib\\site-packages\\ipykernel\\ipkernel.py:283: DeprecationWarning: `should_run_async` will not call `transform_cell` automatically in the future. Please pass the result to `transformed_cell` argument and any exception that happen during thetransform in `preprocessing_exc_tuple` in IPython 7.17 and above.\n",
      "  and should_run_async(code)\n"
     ]
    }
   ],
   "source": [
    "# More than 90% of customers are 'Germany' customers.\n",
    "#\n",
    "df = df[df.Country == 'Germany']"
   ]
  },
  {
   "cell_type": "code",
   "execution_count": 5,
   "metadata": {},
   "outputs": [
    {
     "name": "stderr",
     "output_type": "stream",
     "text": [
      "c:\\Users\\poseidon\\anaconda\\envs\\tensorflow\\lib\\site-packages\\ipykernel\\ipkernel.py:283: DeprecationWarning: `should_run_async` will not call `transform_cell` automatically in the future. Please pass the result to `transformed_cell` argument and any exception that happen during thetransform in `preprocessing_exc_tuple` in IPython 7.17 and above.\n",
      "  and should_run_async(code)\n"
     ]
    }
   ],
   "source": [
    "# Removing the negative values from UnitPrice and Quantity\n",
    "#\n",
    "df = df[df[ 'Quantity'  ] > 0]\n",
    "df = df[df[ 'UnitPrice' ] > 0]\n",
    "\n",
    "\n",
    "# Remove instances with wrong InvoiceNo\n",
    "#\n",
    "df = df[~df[\"InvoiceNo\"].str.contains(\"C\", na = False)]\n",
    "\n",
    "\n",
    "# Removing the Null values from the data.\n",
    "#\n",
    "df = df[ pd.notnull(df['CustomerID']) ]"
   ]
  },
  {
   "cell_type": "code",
   "execution_count": 6,
   "metadata": {},
   "outputs": [
    {
     "name": "stderr",
     "output_type": "stream",
     "text": [
      "c:\\Users\\poseidon\\anaconda\\envs\\tensorflow\\lib\\site-packages\\ipykernel\\ipkernel.py:283: DeprecationWarning: `should_run_async` will not call `transform_cell` automatically in the future. Please pass the result to `transformed_cell` argument and any exception that happen during thetransform in `preprocessing_exc_tuple` in IPython 7.17 and above.\n",
      "  and should_run_async(code)\n"
     ]
    }
   ],
   "source": [
    "# Replace 'InvoiceDate' to 'Date'\n",
    "#\n",
    "df = df.rename(columns = {'InvoiceDate': 'Date'})\n",
    "\n",
    "\n",
    "# Convert 'Date' to datetime64\n",
    "#\n",
    "df[ 'Date' ] = df[ 'Date' ].astype( 'datetime64' )"
   ]
  },
  {
   "cell_type": "code",
   "execution_count": 7,
   "metadata": {},
   "outputs": [
    {
     "name": "stderr",
     "output_type": "stream",
     "text": [
      "c:\\Users\\poseidon\\anaconda\\envs\\tensorflow\\lib\\site-packages\\ipykernel\\ipkernel.py:283: DeprecationWarning: `should_run_async` will not call `transform_cell` automatically in the future. Please pass the result to `transformed_cell` argument and any exception that happen during thetransform in `preprocessing_exc_tuple` in IPython 7.17 and above.\n",
      "  and should_run_async(code)\n"
     ]
    }
   ],
   "source": [
    "# Convert 'CustomerID' to int\n",
    "#\n",
    "df[ 'CustomerID' ] = df[ 'CustomerID' ].astype( 'int' )\n",
    "\n",
    "\n",
    "# Convert 'InvoiceNo' to int\n",
    "#\n",
    "df[ 'InvoiceNo' ] = df[ 'InvoiceNo' ].astype( 'int' )"
   ]
  },
  {
   "cell_type": "markdown",
   "metadata": {},
   "source": [
    "# Build association rule from Germany customers"
   ]
  },
  {
   "cell_type": "code",
   "execution_count": 8,
   "metadata": {},
   "outputs": [
    {
     "name": "stderr",
     "output_type": "stream",
     "text": [
      "c:\\Users\\poseidon\\anaconda\\envs\\tensorflow\\lib\\site-packages\\ipykernel\\ipkernel.py:283: DeprecationWarning: `should_run_async` will not call `transform_cell` automatically in the future. Please pass the result to `transformed_cell` argument and any exception that happen during thetransform in `preprocessing_exc_tuple` in IPython 7.17 and above.\n",
      "  and should_run_async(code)\n"
     ]
    }
   ],
   "source": [
    "# Changing the values of all product between 0 and 1 according to Invoice.\n",
    "#\n",
    "def create_invoice_product_df(dataframe, id = False):\n",
    "    if id:\n",
    "        return dataframe.groupby(['InvoiceNo', \"StockCode\"])['Quantity'].sum().\\\n",
    "            unstack().fillna(0).applymap(lambda x: 1 if x > 0 else 0)\n",
    "    else:\n",
    "        return dataframe.groupby(['InvoiceNo', 'Description'])['Quantity'].sum().\\\n",
    "            unstack().fillna(0).applymap(lambda x: 1 if x > 0 else 0)"
   ]
  },
  {
   "cell_type": "code",
   "execution_count": 9,
   "metadata": {},
   "outputs": [
    {
     "name": "stderr",
     "output_type": "stream",
     "text": [
      "c:\\Users\\poseidon\\anaconda\\envs\\tensorflow\\lib\\site-packages\\ipykernel\\ipkernel.py:283: DeprecationWarning: `should_run_async` will not call `transform_cell` automatically in the future. Please pass the result to `transformed_cell` argument and any exception that happen during thetransform in `preprocessing_exc_tuple` in IPython 7.17 and above.\n",
      "  and should_run_async(code)\n"
     ]
    }
   ],
   "source": [
    "# Sees items in the columns, invoices in the rows\n",
    "# invoice-product matrix\n",
    "# \n",
    "inv_df = create_invoice_product_df(df, id = True)"
   ]
  },
  {
   "cell_type": "markdown",
   "metadata": {},
   "source": [
    "## Application of Apriori algorithm"
   ]
  },
  {
   "cell_type": "code",
   "execution_count": 10,
   "metadata": {},
   "outputs": [
    {
     "name": "stderr",
     "output_type": "stream",
     "text": [
      "c:\\Users\\poseidon\\anaconda\\envs\\tensorflow\\lib\\site-packages\\ipykernel\\ipkernel.py:283: DeprecationWarning: `should_run_async` will not call `transform_cell` automatically in the future. Please pass the result to `transformed_cell` argument and any exception that happen during thetransform in `preprocessing_exc_tuple` in IPython 7.17 and above.\n",
      "  and should_run_async(code)\n",
      "c:\\Users\\poseidon\\anaconda\\envs\\tensorflow\\lib\\site-packages\\mlxtend\\frequent_patterns\\fpcommon.py:115: DeprecationWarning: DataFrames with non-bool types result in worse computationalperformance and their support might be discontinued in the future.Please use a DataFrame with bool type\n",
      "  DeprecationWarning,\n"
     ]
    }
   ],
   "source": [
    "# Number of frequencies of items and their support ratio\n",
    "#\n",
    "frequent_itemsets = apriori(inv_df, min_support = 0.01, use_colnames = True)\n",
    "frequent_itemsets.sort_values(\"support\", ascending = False).head( 5 )"
   ]
  },
  {
   "cell_type": "code",
   "execution_count": null,
   "metadata": {},
   "outputs": [],
   "source": [
    "# Export association rules\n",
    "# \n",
    "rules = association_rules(frequent_itemsets, metric = \"support\", min_threshold = 0.01)\n",
    "\n",
    "# Top 5 associated products according to the “lift” measure\n",
    "rules.sort_values(\"lift\", ascending=False).head( 5 )"
   ]
  },
  {
   "cell_type": "markdown",
   "metadata": {},
   "source": [
    "# Case studies\n",
    "\n",
    "- Make a product recommendation for users in the cart.\n"
   ]
  },
  {
   "cell_type": "code",
   "execution_count": null,
   "metadata": {},
   "outputs": [],
   "source": [
    "def arl_recommender(df_rules, product_id, rec_count=1):\n",
    "\n",
    "    sorted_rules = df_rules.sort_values(\"lift\", ascending=False)\n",
    "\n",
    "    recommendation_list = []\n",
    "\n",
    "    for i, product in sorted_rules[\"antecedents\"].items():\n",
    "        for j in list(product):\n",
    "            if j == str(product_id):\n",
    "                recommendation_list.append(list(sorted_rules.iloc[i][\"consequents\"]))\n",
    "\n",
    "    recommendation_list = list({item for item_list in recommendation_list for item in item_list})\n",
    "\n",
    "    return recommendation_list[:rec_count]\n",
    "\n",
    "\n",
    "def id_finder(dataframe, stock_code):\n",
    "    product_name = dataframe[dataframe[\"StockCode\"] == stock_code][[\"Description\"]].values[0][0]\n",
    "    \n",
    "    return product_name"
   ]
  },
  {
   "cell_type": "code",
   "execution_count": null,
   "metadata": {},
   "outputs": [],
   "source": [
    "# Top 3 recommendations\n",
    "#\n",
    "L = arl_recommender(rules, 21086, 3)\n",
    "\n",
    "for x in L:\n",
    "    print('ID: {} - Description: {}'.format(x, id_finder( df, x )))"
   ]
  },
  {
   "cell_type": "code",
   "execution_count": null,
   "metadata": {},
   "outputs": [],
   "source": [
    "# Top 5 recommendations\n",
    "#\n",
    "L = arl_recommender(rules, 21086, 5)\n",
    "\n",
    "for x in L:\n",
    "    print('ID: {} - Description: {}'.format(x, id_finder( df, x )))"
   ]
  }
 ],
 "metadata": {
  "kernelspec": {
   "display_name": "Python 3.7.10 ('tensorflow')",
   "language": "python",
   "name": "python3"
  },
  "language_info": {
   "codemirror_mode": {
    "name": "ipython",
    "version": 3
   },
   "file_extension": ".py",
   "mimetype": "text/x-python",
   "name": "python",
   "nbconvert_exporter": "python",
   "pygments_lexer": "ipython3",
   "version": "3.7.10"
  },
  "vscode": {
   "interpreter": {
    "hash": "f8692f46610980770f61291bec1cab73f5a660600a4995e682050817c9e58235"
   }
  }
 },
 "nbformat": 4,
 "nbformat_minor": 2
}
